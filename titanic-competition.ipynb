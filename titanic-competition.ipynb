{
 "cells": [
  {
   "cell_type": "code",
   "execution_count": 1,
   "id": "bcd5c4ab",
   "metadata": {
    "_cell_guid": "b1076dfc-b9ad-4769-8c92-a6c4dae69d19",
    "_uuid": "8f2839f25d086af736a60e9eeb907d3b93b6e0e5",
    "execution": {
     "iopub.execute_input": "2024-12-27T00:07:02.125077Z",
     "iopub.status.busy": "2024-12-27T00:07:02.124607Z",
     "iopub.status.idle": "2024-12-27T00:07:02.943935Z",
     "shell.execute_reply": "2024-12-27T00:07:02.942785Z"
    },
    "papermill": {
     "duration": 0.82951,
     "end_time": "2024-12-27T00:07:02.946213",
     "exception": false,
     "start_time": "2024-12-27T00:07:02.116703",
     "status": "completed"
    },
    "tags": []
   },
   "outputs": [
    {
     "name": "stdout",
     "output_type": "stream",
     "text": [
      "/kaggle/input/titanic/train.csv\n",
      "/kaggle/input/titanic/test.csv\n",
      "/kaggle/input/titanic/gender_submission.csv\n"
     ]
    }
   ],
   "source": [
    "# This Python 3 environment comes with many helpful analytics libraries installed\n",
    "# It is defined by the kaggle/python Docker image: https://github.com/kaggle/docker-python\n",
    "# For example, here's several helpful packages to load\n",
    "\n",
    "import numpy as np # linear algebra\n",
    "import pandas as pd # data processing, CSV file I/O (e.g. pd.read_csv)\n",
    "\n",
    "# Input data files are available in the read-only \"../input/\" directory\n",
    "# For example, running this (by clicking run or pressing Shift+Enter) will list all files under the input directory\n",
    "\n",
    "import os\n",
    "for dirname, _, filenames in os.walk('/kaggle/input'):\n",
    "    for filename in filenames:\n",
    "        print(os.path.join(dirname, filename))\n",
    "\n",
    "# You can write up to 20GB to the current directory (/kaggle/working/) that gets preserved as output when you create a version using \"Save & Run All\" \n",
    "# You can also write temporary files to /kaggle/temp/, but they won't be saved outside of the current session"
   ]
  },
  {
   "cell_type": "code",
   "execution_count": 2,
   "id": "a820a97f",
   "metadata": {
    "execution": {
     "iopub.execute_input": "2024-12-27T00:07:02.959115Z",
     "iopub.status.busy": "2024-12-27T00:07:02.958596Z",
     "iopub.status.idle": "2024-12-27T00:07:02.996194Z",
     "shell.execute_reply": "2024-12-27T00:07:02.995122Z"
    },
    "papermill": {
     "duration": 0.046417,
     "end_time": "2024-12-27T00:07:02.998345",
     "exception": false,
     "start_time": "2024-12-27T00:07:02.951928",
     "status": "completed"
    },
    "tags": []
   },
   "outputs": [
    {
     "data": {
      "text/html": [
       "<div>\n",
       "<style scoped>\n",
       "    .dataframe tbody tr th:only-of-type {\n",
       "        vertical-align: middle;\n",
       "    }\n",
       "\n",
       "    .dataframe tbody tr th {\n",
       "        vertical-align: top;\n",
       "    }\n",
       "\n",
       "    .dataframe thead th {\n",
       "        text-align: right;\n",
       "    }\n",
       "</style>\n",
       "<table border=\"1\" class=\"dataframe\">\n",
       "  <thead>\n",
       "    <tr style=\"text-align: right;\">\n",
       "      <th></th>\n",
       "      <th>PassengerId</th>\n",
       "      <th>Survived</th>\n",
       "      <th>Pclass</th>\n",
       "      <th>Name</th>\n",
       "      <th>Sex</th>\n",
       "      <th>Age</th>\n",
       "      <th>SibSp</th>\n",
       "      <th>Parch</th>\n",
       "      <th>Ticket</th>\n",
       "      <th>Fare</th>\n",
       "      <th>Cabin</th>\n",
       "      <th>Embarked</th>\n",
       "    </tr>\n",
       "  </thead>\n",
       "  <tbody>\n",
       "    <tr>\n",
       "      <th>0</th>\n",
       "      <td>1</td>\n",
       "      <td>0</td>\n",
       "      <td>3</td>\n",
       "      <td>Braund, Mr. Owen Harris</td>\n",
       "      <td>male</td>\n",
       "      <td>22.0</td>\n",
       "      <td>1</td>\n",
       "      <td>0</td>\n",
       "      <td>A/5 21171</td>\n",
       "      <td>7.2500</td>\n",
       "      <td>NaN</td>\n",
       "      <td>S</td>\n",
       "    </tr>\n",
       "    <tr>\n",
       "      <th>1</th>\n",
       "      <td>2</td>\n",
       "      <td>1</td>\n",
       "      <td>1</td>\n",
       "      <td>Cumings, Mrs. John Bradley (Florence Briggs Th...</td>\n",
       "      <td>female</td>\n",
       "      <td>38.0</td>\n",
       "      <td>1</td>\n",
       "      <td>0</td>\n",
       "      <td>PC 17599</td>\n",
       "      <td>71.2833</td>\n",
       "      <td>C85</td>\n",
       "      <td>C</td>\n",
       "    </tr>\n",
       "    <tr>\n",
       "      <th>2</th>\n",
       "      <td>3</td>\n",
       "      <td>1</td>\n",
       "      <td>3</td>\n",
       "      <td>Heikkinen, Miss. Laina</td>\n",
       "      <td>female</td>\n",
       "      <td>26.0</td>\n",
       "      <td>0</td>\n",
       "      <td>0</td>\n",
       "      <td>STON/O2. 3101282</td>\n",
       "      <td>7.9250</td>\n",
       "      <td>NaN</td>\n",
       "      <td>S</td>\n",
       "    </tr>\n",
       "    <tr>\n",
       "      <th>3</th>\n",
       "      <td>4</td>\n",
       "      <td>1</td>\n",
       "      <td>1</td>\n",
       "      <td>Futrelle, Mrs. Jacques Heath (Lily May Peel)</td>\n",
       "      <td>female</td>\n",
       "      <td>35.0</td>\n",
       "      <td>1</td>\n",
       "      <td>0</td>\n",
       "      <td>113803</td>\n",
       "      <td>53.1000</td>\n",
       "      <td>C123</td>\n",
       "      <td>S</td>\n",
       "    </tr>\n",
       "    <tr>\n",
       "      <th>4</th>\n",
       "      <td>5</td>\n",
       "      <td>0</td>\n",
       "      <td>3</td>\n",
       "      <td>Allen, Mr. William Henry</td>\n",
       "      <td>male</td>\n",
       "      <td>35.0</td>\n",
       "      <td>0</td>\n",
       "      <td>0</td>\n",
       "      <td>373450</td>\n",
       "      <td>8.0500</td>\n",
       "      <td>NaN</td>\n",
       "      <td>S</td>\n",
       "    </tr>\n",
       "  </tbody>\n",
       "</table>\n",
       "</div>"
      ],
      "text/plain": [
       "   PassengerId  Survived  Pclass  \\\n",
       "0            1         0       3   \n",
       "1            2         1       1   \n",
       "2            3         1       3   \n",
       "3            4         1       1   \n",
       "4            5         0       3   \n",
       "\n",
       "                                                Name     Sex   Age  SibSp  \\\n",
       "0                            Braund, Mr. Owen Harris    male  22.0      1   \n",
       "1  Cumings, Mrs. John Bradley (Florence Briggs Th...  female  38.0      1   \n",
       "2                             Heikkinen, Miss. Laina  female  26.0      0   \n",
       "3       Futrelle, Mrs. Jacques Heath (Lily May Peel)  female  35.0      1   \n",
       "4                           Allen, Mr. William Henry    male  35.0      0   \n",
       "\n",
       "   Parch            Ticket     Fare Cabin Embarked  \n",
       "0      0         A/5 21171   7.2500   NaN        S  \n",
       "1      0          PC 17599  71.2833   C85        C  \n",
       "2      0  STON/O2. 3101282   7.9250   NaN        S  \n",
       "3      0            113803  53.1000  C123        S  \n",
       "4      0            373450   8.0500   NaN        S  "
      ]
     },
     "execution_count": 2,
     "metadata": {},
     "output_type": "execute_result"
    }
   ],
   "source": [
    "train_data = pd.read_csv(\"/kaggle/input/titanic/train.csv\")\n",
    "train_data.head()"
   ]
  },
  {
   "cell_type": "code",
   "execution_count": 3,
   "id": "9eb75ecc",
   "metadata": {
    "execution": {
     "iopub.execute_input": "2024-12-27T00:07:03.012647Z",
     "iopub.status.busy": "2024-12-27T00:07:03.012299Z",
     "iopub.status.idle": "2024-12-27T00:07:03.031999Z",
     "shell.execute_reply": "2024-12-27T00:07:03.030962Z"
    },
    "papermill": {
     "duration": 0.029729,
     "end_time": "2024-12-27T00:07:03.034045",
     "exception": false,
     "start_time": "2024-12-27T00:07:03.004316",
     "status": "completed"
    },
    "tags": []
   },
   "outputs": [
    {
     "data": {
      "text/html": [
       "<div>\n",
       "<style scoped>\n",
       "    .dataframe tbody tr th:only-of-type {\n",
       "        vertical-align: middle;\n",
       "    }\n",
       "\n",
       "    .dataframe tbody tr th {\n",
       "        vertical-align: top;\n",
       "    }\n",
       "\n",
       "    .dataframe thead th {\n",
       "        text-align: right;\n",
       "    }\n",
       "</style>\n",
       "<table border=\"1\" class=\"dataframe\">\n",
       "  <thead>\n",
       "    <tr style=\"text-align: right;\">\n",
       "      <th></th>\n",
       "      <th>PassengerId</th>\n",
       "      <th>Pclass</th>\n",
       "      <th>Name</th>\n",
       "      <th>Sex</th>\n",
       "      <th>Age</th>\n",
       "      <th>SibSp</th>\n",
       "      <th>Parch</th>\n",
       "      <th>Ticket</th>\n",
       "      <th>Fare</th>\n",
       "      <th>Cabin</th>\n",
       "      <th>Embarked</th>\n",
       "    </tr>\n",
       "  </thead>\n",
       "  <tbody>\n",
       "    <tr>\n",
       "      <th>0</th>\n",
       "      <td>892</td>\n",
       "      <td>3</td>\n",
       "      <td>Kelly, Mr. James</td>\n",
       "      <td>male</td>\n",
       "      <td>34.5</td>\n",
       "      <td>0</td>\n",
       "      <td>0</td>\n",
       "      <td>330911</td>\n",
       "      <td>7.8292</td>\n",
       "      <td>NaN</td>\n",
       "      <td>Q</td>\n",
       "    </tr>\n",
       "    <tr>\n",
       "      <th>1</th>\n",
       "      <td>893</td>\n",
       "      <td>3</td>\n",
       "      <td>Wilkes, Mrs. James (Ellen Needs)</td>\n",
       "      <td>female</td>\n",
       "      <td>47.0</td>\n",
       "      <td>1</td>\n",
       "      <td>0</td>\n",
       "      <td>363272</td>\n",
       "      <td>7.0000</td>\n",
       "      <td>NaN</td>\n",
       "      <td>S</td>\n",
       "    </tr>\n",
       "    <tr>\n",
       "      <th>2</th>\n",
       "      <td>894</td>\n",
       "      <td>2</td>\n",
       "      <td>Myles, Mr. Thomas Francis</td>\n",
       "      <td>male</td>\n",
       "      <td>62.0</td>\n",
       "      <td>0</td>\n",
       "      <td>0</td>\n",
       "      <td>240276</td>\n",
       "      <td>9.6875</td>\n",
       "      <td>NaN</td>\n",
       "      <td>Q</td>\n",
       "    </tr>\n",
       "    <tr>\n",
       "      <th>3</th>\n",
       "      <td>895</td>\n",
       "      <td>3</td>\n",
       "      <td>Wirz, Mr. Albert</td>\n",
       "      <td>male</td>\n",
       "      <td>27.0</td>\n",
       "      <td>0</td>\n",
       "      <td>0</td>\n",
       "      <td>315154</td>\n",
       "      <td>8.6625</td>\n",
       "      <td>NaN</td>\n",
       "      <td>S</td>\n",
       "    </tr>\n",
       "    <tr>\n",
       "      <th>4</th>\n",
       "      <td>896</td>\n",
       "      <td>3</td>\n",
       "      <td>Hirvonen, Mrs. Alexander (Helga E Lindqvist)</td>\n",
       "      <td>female</td>\n",
       "      <td>22.0</td>\n",
       "      <td>1</td>\n",
       "      <td>1</td>\n",
       "      <td>3101298</td>\n",
       "      <td>12.2875</td>\n",
       "      <td>NaN</td>\n",
       "      <td>S</td>\n",
       "    </tr>\n",
       "  </tbody>\n",
       "</table>\n",
       "</div>"
      ],
      "text/plain": [
       "   PassengerId  Pclass                                          Name     Sex  \\\n",
       "0          892       3                              Kelly, Mr. James    male   \n",
       "1          893       3              Wilkes, Mrs. James (Ellen Needs)  female   \n",
       "2          894       2                     Myles, Mr. Thomas Francis    male   \n",
       "3          895       3                              Wirz, Mr. Albert    male   \n",
       "4          896       3  Hirvonen, Mrs. Alexander (Helga E Lindqvist)  female   \n",
       "\n",
       "    Age  SibSp  Parch   Ticket     Fare Cabin Embarked  \n",
       "0  34.5      0      0   330911   7.8292   NaN        Q  \n",
       "1  47.0      1      0   363272   7.0000   NaN        S  \n",
       "2  62.0      0      0   240276   9.6875   NaN        Q  \n",
       "3  27.0      0      0   315154   8.6625   NaN        S  \n",
       "4  22.0      1      1  3101298  12.2875   NaN        S  "
      ]
     },
     "execution_count": 3,
     "metadata": {},
     "output_type": "execute_result"
    }
   ],
   "source": [
    "test_data = pd.read_csv(\"/kaggle/input/titanic/test.csv\")\n",
    "test_data.head()"
   ]
  },
  {
   "cell_type": "code",
   "execution_count": 4,
   "id": "6aec0b74",
   "metadata": {
    "execution": {
     "iopub.execute_input": "2024-12-27T00:07:03.048024Z",
     "iopub.status.busy": "2024-12-27T00:07:03.047678Z",
     "iopub.status.idle": "2024-12-27T00:07:03.058403Z",
     "shell.execute_reply": "2024-12-27T00:07:03.057320Z"
    },
    "papermill": {
     "duration": 0.020036,
     "end_time": "2024-12-27T00:07:03.060476",
     "exception": false,
     "start_time": "2024-12-27T00:07:03.040440",
     "status": "completed"
    },
    "tags": []
   },
   "outputs": [
    {
     "name": "stdout",
     "output_type": "stream",
     "text": [
      "% of women who survived: 0.7420382165605095\n"
     ]
    }
   ],
   "source": [
    "women = train_data.loc[train_data.Sex == 'female'][\"Survived\"]\n",
    "rate_women = sum(women)/len(women)\n",
    "\n",
    "print(\"% of women who survived:\", rate_women)"
   ]
  },
  {
   "cell_type": "code",
   "execution_count": 5,
   "id": "14782a47",
   "metadata": {
    "execution": {
     "iopub.execute_input": "2024-12-27T00:07:03.074265Z",
     "iopub.status.busy": "2024-12-27T00:07:03.073406Z",
     "iopub.status.idle": "2024-12-27T00:07:03.080357Z",
     "shell.execute_reply": "2024-12-27T00:07:03.079271Z"
    },
    "papermill": {
     "duration": 0.015928,
     "end_time": "2024-12-27T00:07:03.082240",
     "exception": false,
     "start_time": "2024-12-27T00:07:03.066312",
     "status": "completed"
    },
    "tags": []
   },
   "outputs": [
    {
     "name": "stdout",
     "output_type": "stream",
     "text": [
      "% of men who survived: 0.18890814558058924\n"
     ]
    }
   ],
   "source": [
    "men = train_data.loc[train_data.Sex == 'male'][\"Survived\"]\n",
    "rate_men = sum(men)/len(men)\n",
    "\n",
    "print(\"% of men who survived:\", rate_men)"
   ]
  },
  {
   "cell_type": "code",
   "execution_count": 6,
   "id": "d875a20e",
   "metadata": {
    "execution": {
     "iopub.execute_input": "2024-12-27T00:07:03.097446Z",
     "iopub.status.busy": "2024-12-27T00:07:03.096660Z",
     "iopub.status.idle": "2024-12-27T00:07:03.134611Z",
     "shell.execute_reply": "2024-12-27T00:07:03.133360Z"
    },
    "papermill": {
     "duration": 0.047198,
     "end_time": "2024-12-27T00:07:03.136870",
     "exception": false,
     "start_time": "2024-12-27T00:07:03.089672",
     "status": "completed"
    },
    "tags": []
   },
   "outputs": [
    {
     "name": "stdout",
     "output_type": "stream",
     "text": [
      "       PassengerId    Survived      Pclass         Age       SibSp  \\\n",
      "count   891.000000  891.000000  891.000000  714.000000  891.000000   \n",
      "mean    446.000000    0.383838    2.308642   29.699118    0.523008   \n",
      "std     257.353842    0.486592    0.836071   14.526497    1.102743   \n",
      "min       1.000000    0.000000    1.000000    0.420000    0.000000   \n",
      "25%     223.500000    0.000000    2.000000   20.125000    0.000000   \n",
      "50%     446.000000    0.000000    3.000000   28.000000    0.000000   \n",
      "75%     668.500000    1.000000    3.000000   38.000000    1.000000   \n",
      "max     891.000000    1.000000    3.000000   80.000000    8.000000   \n",
      "\n",
      "            Parch        Fare  \n",
      "count  891.000000  891.000000  \n",
      "mean     0.381594   32.204208  \n",
      "std      0.806057   49.693429  \n",
      "min      0.000000    0.000000  \n",
      "25%      0.000000    7.910400  \n",
      "50%      0.000000   14.454200  \n",
      "75%      0.000000   31.000000  \n",
      "max      6.000000  512.329200  \n",
      "<class 'pandas.core.frame.DataFrame'>\n",
      "RangeIndex: 891 entries, 0 to 890\n",
      "Data columns (total 12 columns):\n",
      " #   Column       Non-Null Count  Dtype  \n",
      "---  ------       --------------  -----  \n",
      " 0   PassengerId  891 non-null    int64  \n",
      " 1   Survived     891 non-null    int64  \n",
      " 2   Pclass       891 non-null    int64  \n",
      " 3   Name         891 non-null    object \n",
      " 4   Sex          891 non-null    object \n",
      " 5   Age          714 non-null    float64\n",
      " 6   SibSp        891 non-null    int64  \n",
      " 7   Parch        891 non-null    int64  \n",
      " 8   Ticket       891 non-null    object \n",
      " 9   Fare         891 non-null    float64\n",
      " 10  Cabin        204 non-null    object \n",
      " 11  Embarked     889 non-null    object \n",
      "dtypes: float64(2), int64(5), object(5)\n",
      "memory usage: 83.7+ KB\n",
      "None\n"
     ]
    }
   ],
   "source": [
    "print(train_data.describe())\n",
    "print(train_data.info())"
   ]
  },
  {
   "cell_type": "code",
   "execution_count": 7,
   "id": "c6586fc9",
   "metadata": {
    "execution": {
     "iopub.execute_input": "2024-12-27T00:07:03.151485Z",
     "iopub.status.busy": "2024-12-27T00:07:03.150368Z",
     "iopub.status.idle": "2024-12-27T00:07:03.162822Z",
     "shell.execute_reply": "2024-12-27T00:07:03.161614Z"
    },
    "papermill": {
     "duration": 0.021705,
     "end_time": "2024-12-27T00:07:03.164903",
     "exception": false,
     "start_time": "2024-12-27T00:07:03.143198",
     "status": "completed"
    },
    "tags": []
   },
   "outputs": [
    {
     "name": "stdout",
     "output_type": "stream",
     "text": [
      "     PassengerId  Survived  Pclass                                      Name  \\\n",
      "5              6         0       3                          Moran, Mr. James   \n",
      "17            18         1       2              Williams, Mr. Charles Eugene   \n",
      "19            20         1       3                   Masselmani, Mrs. Fatima   \n",
      "26            27         0       3                   Emir, Mr. Farred Chehab   \n",
      "28            29         1       3             O'Dwyer, Miss. Ellen \"Nellie\"   \n",
      "..           ...       ...     ...                                       ...   \n",
      "859          860         0       3                          Razi, Mr. Raihed   \n",
      "863          864         0       3         Sage, Miss. Dorothy Edith \"Dolly\"   \n",
      "868          869         0       3               van Melkebeke, Mr. Philemon   \n",
      "878          879         0       3                        Laleff, Mr. Kristo   \n",
      "888          889         0       3  Johnston, Miss. Catherine Helen \"Carrie\"   \n",
      "\n",
      "        Sex  Age  SibSp  Parch      Ticket     Fare Cabin Embarked  \n",
      "5      male  NaN      0      0      330877   8.4583   NaN        Q  \n",
      "17     male  NaN      0      0      244373  13.0000   NaN        S  \n",
      "19   female  NaN      0      0        2649   7.2250   NaN        C  \n",
      "26     male  NaN      0      0        2631   7.2250   NaN        C  \n",
      "28   female  NaN      0      0      330959   7.8792   NaN        Q  \n",
      "..      ...  ...    ...    ...         ...      ...   ...      ...  \n",
      "859    male  NaN      0      0        2629   7.2292   NaN        C  \n",
      "863  female  NaN      8      2    CA. 2343  69.5500   NaN        S  \n",
      "868    male  NaN      0      0      345777   9.5000   NaN        S  \n",
      "878    male  NaN      0      0      349217   7.8958   NaN        S  \n",
      "888  female  NaN      1      2  W./C. 6607  23.4500   NaN        S  \n",
      "\n",
      "[177 rows x 12 columns]\n"
     ]
    }
   ],
   "source": [
    "print(train_data[train_data.Age.isna()])"
   ]
  },
  {
   "cell_type": "code",
   "execution_count": 8,
   "id": "49e97f0a",
   "metadata": {
    "execution": {
     "iopub.execute_input": "2024-12-27T00:07:03.178954Z",
     "iopub.status.busy": "2024-12-27T00:07:03.178573Z",
     "iopub.status.idle": "2024-12-27T00:07:03.183102Z",
     "shell.execute_reply": "2024-12-27T00:07:03.182152Z"
    },
    "papermill": {
     "duration": 0.013831,
     "end_time": "2024-12-27T00:07:03.185083",
     "exception": false,
     "start_time": "2024-12-27T00:07:03.171252",
     "status": "completed"
    },
    "tags": []
   },
   "outputs": [],
   "source": [
    "#from sklearn.ensemble import RandomForestClassifier\n",
    "\n",
    "#y = train_data[\"Survived\"]\n",
    "\n",
    "#features = [\"Pclass\",\"Sex\", \"SibSp\", \"Parch\"]\n",
    "#X = pd.get_dummies(train_data[features])\n",
    "#X_test = pd.get_dummies(test_data[features])\n",
    "\n",
    "#model = RandomForestClassifier(n_estimators=100, max_depth=5, random_state=1)\n",
    "#model.fit(X,y)\n",
    "#predictions = model.predict(X_test)\n",
    "\n",
    "#output = pd.DataFrame({'PassengerId': test_data.PassengerId, 'Survived': predictions})\n",
    "#output.to_csv('submission.csv', index=False)\n",
    "#print(\"Your submission was successfully saved!\")"
   ]
  },
  {
   "cell_type": "markdown",
   "id": "7f53c63e",
   "metadata": {
    "papermill": {
     "duration": 0.006347,
     "end_time": "2024-12-27T00:07:03.197632",
     "exception": false,
     "start_time": "2024-12-27T00:07:03.191285",
     "status": "completed"
    },
    "tags": []
   },
   "source": [
    "Ajout de nouvelles features au dataset : Feature Engineering"
   ]
  },
  {
   "cell_type": "code",
   "execution_count": 9,
   "id": "c6d31b10",
   "metadata": {
    "execution": {
     "iopub.execute_input": "2024-12-27T00:07:03.211755Z",
     "iopub.status.busy": "2024-12-27T00:07:03.210807Z",
     "iopub.status.idle": "2024-12-27T00:07:03.222200Z",
     "shell.execute_reply": "2024-12-27T00:07:03.221395Z"
    },
    "papermill": {
     "duration": 0.02043,
     "end_time": "2024-12-27T00:07:03.224179",
     "exception": false,
     "start_time": "2024-12-27T00:07:03.203749",
     "status": "completed"
    },
    "tags": []
   },
   "outputs": [],
   "source": [
    "## Identification des noms de famille\n",
    "\n",
    "name_df = train_data[\"Name\"].str.split().str[0]\n",
    "name_df_test = test_data[\"Name\"].str.split().str[0]\n",
    "\n",
    "doublons = name_df.value_counts()[lambda x: x > 1].index\n",
    "name_df_doublons = train_data[name_df.isin(doublons)]"
   ]
  },
  {
   "cell_type": "code",
   "execution_count": 10,
   "id": "7d25c5df",
   "metadata": {
    "execution": {
     "iopub.execute_input": "2024-12-27T00:07:03.237822Z",
     "iopub.status.busy": "2024-12-27T00:07:03.237484Z",
     "iopub.status.idle": "2024-12-27T00:07:03.243123Z",
     "shell.execute_reply": "2024-12-27T00:07:03.242098Z"
    },
    "papermill": {
     "duration": 0.014613,
     "end_time": "2024-12-27T00:07:03.245108",
     "exception": false,
     "start_time": "2024-12-27T00:07:03.230495",
     "status": "completed"
    },
    "tags": []
   },
   "outputs": [],
   "source": [
    "train_data[\"Nom de famille\"] = name_df\n",
    "test_data[\"Nom de famille\"] = name_df_test"
   ]
  },
  {
   "cell_type": "code",
   "execution_count": 11,
   "id": "afb27f53",
   "metadata": {
    "execution": {
     "iopub.execute_input": "2024-12-27T00:07:03.258819Z",
     "iopub.status.busy": "2024-12-27T00:07:03.258497Z",
     "iopub.status.idle": "2024-12-27T00:07:03.270104Z",
     "shell.execute_reply": "2024-12-27T00:07:03.269032Z"
    },
    "papermill": {
     "duration": 0.020774,
     "end_time": "2024-12-27T00:07:03.272145",
     "exception": false,
     "start_time": "2024-12-27T00:07:03.251371",
     "status": "completed"
    },
    "tags": []
   },
   "outputs": [
    {
     "name": "stdout",
     "output_type": "stream",
     "text": [
      "     PassengerId  Survived  Pclass                       Name   Sex   Age  \\\n",
      "0              1         0       3    Braund, Mr. Owen Harris  male  22.0   \n",
      "477          478         0       3  Braund, Mr. Lewis Richard  male  29.0   \n",
      "\n",
      "     SibSp  Parch     Ticket    Fare Cabin Embarked Nom de famille  \n",
      "0        1      0  A/5 21171  7.2500   NaN        S        Braund,  \n",
      "477      1      0       3460  7.0458   NaN        S        Braund,  \n"
     ]
    }
   ],
   "source": [
    "ex_doublon = train_data[train_data[\"Nom de famille\"] == train_data[\"Nom de famille\"].loc[0]]\n",
    "print(ex_doublon)"
   ]
  },
  {
   "cell_type": "code",
   "execution_count": 12,
   "id": "e0884f7e",
   "metadata": {
    "execution": {
     "iopub.execute_input": "2024-12-27T00:07:03.286000Z",
     "iopub.status.busy": "2024-12-27T00:07:03.285623Z",
     "iopub.status.idle": "2024-12-27T00:07:03.505485Z",
     "shell.execute_reply": "2024-12-27T00:07:03.504653Z"
    },
    "papermill": {
     "duration": 0.229537,
     "end_time": "2024-12-27T00:07:03.507800",
     "exception": false,
     "start_time": "2024-12-27T00:07:03.278263",
     "status": "completed"
    },
    "tags": []
   },
   "outputs": [],
   "source": [
    "## Gestion des valeurs manquantes des âges\n",
    "\n",
    "# Première idée : gérer les familles où on connaît l'âge d'un autre membre et attribuer la moyenne pour les autres selon leur sexe\n",
    "import random\n",
    "\n",
    "def missing_values_age(data, complete_data, full_data):\n",
    "    for index, row in data.iterrows():\n",
    "        ind_nf = row[\"Nom de famille\"]\n",
    "        if row.SibSp > 0:\n",
    "            data_related = complete_data.loc[(complete_data[\"Nom de famille\"] == ind_nf) & (complete_data['SibSp'] == row.SibSp)]\n",
    "            if not(data_related.empty):\n",
    "                age_sib = data_related['Age'].item()\n",
    "                full_data.at[index, 'Age'] = round(random.uniform(age_sib - 3, age_sib + 3))\n",
    "            else:\n",
    "                full_data.at[index, 'Age'] = round(np.mean(complete_data[complete_data.Sex == row.Sex]['Age']))\n",
    "        elif row.Parch > 0:\n",
    "            data_related = complete_data.loc[(complete_data[\"Nom de famille\"] == ind_nf) & (complete_data['Parch'] == row.Parch)]\n",
    "            if not(data_related.empty):\n",
    "                age_parch = data_related['Age'].item()\n",
    "                if age_parch < 21:\n",
    "                    full_data.at[index, 'Age'] = round(random.uniform(age_parch + 26, age_parch + 32))\n",
    "                elif age_parch > 30:\n",
    "                    full_data.at[index, 'Age'] = round(random.uniform(age_parch - 29, age_parch - 25))\n",
    "                else:\n",
    "                    full_data.at[index, 'Age'] = round(np.mean(complete_data[complete_data.Sex == row.Sex]['Age']))\n",
    "            else:\n",
    "                full_data.at[index, 'Age'] = round(np.mean(complete_data[complete_data.Sex == row.Sex]['Age']))\n",
    "        else:\n",
    "            full_data.at[index, 'Age'] = round(np.mean(complete_data[complete_data.Sex == row.Sex]['Age']))\n",
    "\n",
    "age_missing_df = train_data[train_data.Age.isna()]\n",
    "age_notmissing_df = train_data[train_data.Age > 0]\n",
    "\n",
    "missing_values_age(age_missing_df, age_notmissing_df, train_data)\n",
    "\n",
    "age_missing_dftest = test_data[test_data.Age.isna()]\n",
    "age_notmissing_dftest = test_data[test_data.Age > 0]\n",
    "\n",
    "missing_values_age(age_missing_dftest, age_notmissing_dftest, test_data)"
   ]
  },
  {
   "cell_type": "code",
   "execution_count": 13,
   "id": "9a923cf9",
   "metadata": {
    "execution": {
     "iopub.execute_input": "2024-12-27T00:07:03.521816Z",
     "iopub.status.busy": "2024-12-27T00:07:03.521477Z",
     "iopub.status.idle": "2024-12-27T00:07:03.525719Z",
     "shell.execute_reply": "2024-12-27T00:07:03.524785Z"
    },
    "papermill": {
     "duration": 0.013371,
     "end_time": "2024-12-27T00:07:03.527633",
     "exception": false,
     "start_time": "2024-12-27T00:07:03.514262",
     "status": "completed"
    },
    "tags": []
   },
   "outputs": [],
   "source": [
    "#from sklearn.ensemble import RandomForestClassifier\n",
    "\n",
    "#y = train_data[\"Survived\"]\n",
    "\n",
    "#features = [\"Pclass\",\"Sex\", \"Age\", \"SibSp\", \"Parch\"]\n",
    "#X = pd.get_dummies(train_data[features])\n",
    "#X_test = pd.get_dummies(test_data[features])\n",
    "\n",
    "#model = RandomForestClassifier(n_estimators=100, max_depth=5, random_state=1)\n",
    "#model.fit(X,y)\n",
    "#predictions = model.predict(X_test)\n",
    "\n",
    "#output = pd.DataFrame({'PassengerId': test_data.PassengerId, 'Survived': predictions})\n",
    "#output.to_csv('submission.csv', index=False)\n",
    "#print(\"Your submission was successfully saved!\")"
   ]
  },
  {
   "cell_type": "markdown",
   "id": "01d7ebf8",
   "metadata": {
    "papermill": {
     "duration": 0.005801,
     "end_time": "2024-12-27T00:07:03.539739",
     "exception": false,
     "start_time": "2024-12-27T00:07:03.533938",
     "status": "completed"
    },
    "tags": []
   },
   "source": [
    "Version en ajoutant le prix du ticket comme feature"
   ]
  },
  {
   "cell_type": "code",
   "execution_count": 14,
   "id": "67222e4e",
   "metadata": {
    "execution": {
     "iopub.execute_input": "2024-12-27T00:07:03.553450Z",
     "iopub.status.busy": "2024-12-27T00:07:03.553119Z",
     "iopub.status.idle": "2024-12-27T00:07:03.563191Z",
     "shell.execute_reply": "2024-12-27T00:07:03.562403Z"
    },
    "papermill": {
     "duration": 0.019154,
     "end_time": "2024-12-27T00:07:03.565080",
     "exception": false,
     "start_time": "2024-12-27T00:07:03.545926",
     "status": "completed"
    },
    "tags": []
   },
   "outputs": [],
   "source": [
    "def missing_values_fare(data):\n",
    "    df_missingfare = data[data.Fare.isna()]\n",
    "    df_notmissingfare = data[data.Fare > 0]\n",
    "\n",
    "    for index, row in df_missingfare.iterrows():\n",
    "        data.at[index, 'Fare'] = np.mean(df_notmissingfare[(df_notmissingfare.Pclass == row.Pclass) & (df_notmissingfare.Embarked == row.Embarked)].Fare)\n",
    "\n",
    "missing_values_fare(train_data)\n",
    "missing_values_fare(test_data)"
   ]
  },
  {
   "cell_type": "code",
   "execution_count": 15,
   "id": "53e9791e",
   "metadata": {
    "execution": {
     "iopub.execute_input": "2024-12-27T00:07:03.578461Z",
     "iopub.status.busy": "2024-12-27T00:07:03.578146Z",
     "iopub.status.idle": "2024-12-27T00:07:03.582810Z",
     "shell.execute_reply": "2024-12-27T00:07:03.581783Z"
    },
    "papermill": {
     "duration": 0.01371,
     "end_time": "2024-12-27T00:07:03.584836",
     "exception": false,
     "start_time": "2024-12-27T00:07:03.571126",
     "status": "completed"
    },
    "tags": []
   },
   "outputs": [],
   "source": [
    "#from sklearn.ensemble import RandomForestClassifier\n",
    "\n",
    "#y = train_data[\"Survived\"]\n",
    "\n",
    "#features = [\"Pclass\",\"Sex\", \"Age\", \"Fare\", \"SibSp\", \"Parch\"]\n",
    "#X = pd.get_dummies(train_data[features])\n",
    "#X_test = pd.get_dummies(test_data[features])\n",
    "\n",
    "#model = RandomForestClassifier(n_estimators=100, max_depth=5, random_state=1)\n",
    "#model.fit(X,y)\n",
    "#predictions = model.predict(X_test)\n",
    "\n",
    "#output = pd.DataFrame({'PassengerId': test_data.PassengerId, 'Survived': predictions})\n",
    "#output.to_csv('submission.csv', index=False)\n",
    "#print(\"Your submission was successfully saved!\")"
   ]
  },
  {
   "cell_type": "markdown",
   "id": "38acfc13",
   "metadata": {
    "papermill": {
     "duration": 0.005978,
     "end_time": "2024-12-27T00:07:03.597133",
     "exception": false,
     "start_time": "2024-12-27T00:07:03.591155",
     "status": "completed"
    },
    "tags": []
   },
   "source": [
    "Cross-validation(KFold)"
   ]
  },
  {
   "cell_type": "code",
   "execution_count": 16,
   "id": "bd2cf13e",
   "metadata": {
    "execution": {
     "iopub.execute_input": "2024-12-27T00:07:03.611044Z",
     "iopub.status.busy": "2024-12-27T00:07:03.610295Z",
     "iopub.status.idle": "2024-12-27T00:07:03.614682Z",
     "shell.execute_reply": "2024-12-27T00:07:03.613808Z"
    },
    "papermill": {
     "duration": 0.013437,
     "end_time": "2024-12-27T00:07:03.616583",
     "exception": false,
     "start_time": "2024-12-27T00:07:03.603146",
     "status": "completed"
    },
    "tags": []
   },
   "outputs": [],
   "source": [
    "#from sklearn.model_selection import train_test_split, cross_val_score, KFold\n",
    "#from sklearn.ensemble import RandomForestClassifier\n",
    "\n",
    "#y = train_data[\"Survived\"]\n",
    "\n",
    "#features = [\"Pclass\",\"Sex\", \"Age\", \"Fare\", \"SibSp\", \"Parch\"]\n",
    "#X = pd.get_dummies(train_data[features])\n",
    "#X_test = pd.get_dummies(test_data[features])\n",
    "\n",
    "#X_train, X_test, y_train, y_test = train_test_split(X, y, test_size=0.2, random_state=42)\n",
    "\n",
    "#model = RandomForestClassifier(n_estimators=100, max_depth=5, random_state=1)\n",
    "\n",
    "#kfold = KFold(n_splits=5, shuffle=True, random_state=42)\n",
    "\n",
    "#cv_scores = cross_val_score(model, X_train, y_train, cv=kfold)\n",
    "\n",
    "#print(\"Scores de chaque fold :\", cv_scores)\n",
    "#print(\"Moyenne des scores :\", cv_scores.mean())"
   ]
  },
  {
   "cell_type": "code",
   "execution_count": 17,
   "id": "bdb69b30",
   "metadata": {
    "execution": {
     "iopub.execute_input": "2024-12-27T00:07:03.630532Z",
     "iopub.status.busy": "2024-12-27T00:07:03.630210Z",
     "iopub.status.idle": "2024-12-27T00:07:11.630532Z",
     "shell.execute_reply": "2024-12-27T00:07:11.629469Z"
    },
    "papermill": {
     "duration": 8.009572,
     "end_time": "2024-12-27T00:07:11.632531",
     "exception": false,
     "start_time": "2024-12-27T00:07:03.622959",
     "status": "completed"
    },
    "tags": []
   },
   "outputs": [
    {
     "data": {
      "text/plain": [
       "[<matplotlib.lines.Line2D at 0x781412267190>]"
      ]
     },
     "execution_count": 17,
     "metadata": {},
     "output_type": "execute_result"
    },
    {
     "data": {
      "image/png": "[encoded data removed]",
      "text/plain": [
       "<Figure size 640x480 with 1 Axes>"
      ]
     },
     "metadata": {},
     "output_type": "display_data"
    }
   ],
   "source": [
    "## Etude des scores selon la max_depth du modèle\n",
    "from sklearn.model_selection import train_test_split, cross_val_score, KFold\n",
    "from sklearn.ensemble import RandomForestClassifier\n",
    "import matplotlib.pyplot as plt\n",
    "\n",
    "max_depths = [2,3,4,5,6,7,10]\n",
    "\n",
    "cv_results = []\n",
    "\n",
    "y = train_data[\"Survived\"]\n",
    "\n",
    "features = [\"Pclass\",\"Sex\", \"Age\", \"Fare\", \"SibSp\", \"Parch\"]\n",
    "X = pd.get_dummies(train_data[features])\n",
    "X_test = pd.get_dummies(test_data[features])\n",
    "\n",
    "X_train, X_test, y_train, y_test = train_test_split(X, y, test_size=0.2, random_state=42)\n",
    "\n",
    "for max_depth in max_depths:\n",
    "    model = RandomForestClassifier(n_estimators=100, max_depth=max_depth, random_state=1)\n",
    "\n",
    "    kfold = KFold(n_splits=5, shuffle=True, random_state=42)\n",
    "\n",
    "    cv_scores = cross_val_score(model, X_train, y_train, cv=kfold)\n",
    "\n",
    "    cv_results.append(cv_scores.mean())\n",
    "\n",
    "plt.plot(max_depths, cv_results)\n",
    "    \n",
    "## MAX POUR 5"
   ]
  },
  {
   "cell_type": "code",
   "execution_count": 18,
   "id": "3b0ea347",
   "metadata": {
    "execution": {
     "iopub.execute_input": "2024-12-27T00:07:11.648332Z",
     "iopub.status.busy": "2024-12-27T00:07:11.647430Z",
     "iopub.status.idle": "2024-12-27T00:07:16.769558Z",
     "shell.execute_reply": "2024-12-27T00:07:16.768462Z"
    },
    "papermill": {
     "duration": 5.132161,
     "end_time": "2024-12-27T00:07:16.771478",
     "exception": false,
     "start_time": "2024-12-27T00:07:11.639317",
     "status": "completed"
    },
    "tags": []
   },
   "outputs": [
    {
     "data": {
      "text/plain": [
       "[<matplotlib.lines.Line2D at 0x781410197190>]"
      ]
     },
     "execution_count": 18,
     "metadata": {},
     "output_type": "execute_result"
    },
    {
     "data": {
      "image/png": "[encoded data removed]",
      "text/plain": [
       "<Figure size 640x480 with 1 Axes>"
      ]
     },
     "metadata": {},
     "output_type": "display_data"
    }
   ],
   "source": [
    "## Etude des scores selon le nombre d'estimateurs du modèle\n",
    "from sklearn.model_selection import train_test_split, cross_val_score, KFold\n",
    "from sklearn.ensemble import RandomForestClassifier\n",
    "import matplotlib.pyplot as plt\n",
    "\n",
    "n_estimators_list = [10,20,30,40,50,60,70,80,90,100]\n",
    "\n",
    "cv_results = []\n",
    "\n",
    "y = train_data[\"Survived\"]\n",
    "\n",
    "features = [\"Pclass\",\"Sex\", \"Age\", \"Fare\", \"SibSp\", \"Parch\"]\n",
    "X = pd.get_dummies(train_data[features])\n",
    "X_test = pd.get_dummies(test_data[features])\n",
    "\n",
    "X_train, X_test, y_train, y_test = train_test_split(X, y, test_size=0.2, random_state=42)\n",
    "\n",
    "for n_estimators in n_estimators_list:\n",
    "    model = RandomForestClassifier(n_estimators=n_estimators, max_depth=5, random_state=1)\n",
    "\n",
    "    kfold = KFold(n_splits=5, shuffle=True, random_state=42)\n",
    "\n",
    "    cv_scores = cross_val_score(model, X_train, y_train, cv=kfold)\n",
    "\n",
    "    cv_results.append(cv_scores.mean())\n",
    "\n",
    "plt.plot(n_estimators_list, cv_results)\n",
    "    \n",
    "## MAX POUR 30"
   ]
  },
  {
   "cell_type": "markdown",
   "id": "d37b909c",
   "metadata": {
    "papermill": {
     "duration": 0.00759,
     "end_time": "2024-12-27T00:07:16.786591",
     "exception": false,
     "start_time": "2024-12-27T00:07:16.779001",
     "status": "completed"
    },
    "tags": []
   },
   "source": [
    "Test avec les paramètres optimisés"
   ]
  },
  {
   "cell_type": "code",
   "execution_count": 19,
   "id": "23e828ff",
   "metadata": {
    "execution": {
     "iopub.execute_input": "2024-12-27T00:07:16.803381Z",
     "iopub.status.busy": "2024-12-27T00:07:16.802405Z",
     "iopub.status.idle": "2024-12-27T00:07:16.806951Z",
     "shell.execute_reply": "2024-12-27T00:07:16.806072Z"
    },
    "papermill": {
     "duration": 0.01482,
     "end_time": "2024-12-27T00:07:16.808726",
     "exception": false,
     "start_time": "2024-12-27T00:07:16.793906",
     "status": "completed"
    },
    "tags": []
   },
   "outputs": [],
   "source": [
    "#y = train_data[\"Survived\"]\n",
    "\n",
    "#features = [\"Pclass\",\"Sex\", \"Age\", \"Fare\", \"SibSp\", \"Parch\"]\n",
    "#X = pd.get_dummies(train_data[features])\n",
    "#X_test = pd.get_dummies(test_data[features])\n",
    "\n",
    "#model = RandomForestClassifier(n_estimators=30, max_depth=5, random_state=1)\n",
    "#model.fit(X,y)\n",
    "#predictions = model.predict(X_test)\n",
    "\n",
    "#output = pd.DataFrame({'PassengerId': test_data.PassengerId, 'Survived': predictions})\n",
    "#output.to_csv('submission.csv', index=False)\n",
    "#print(\"Your submission was successfully saved!\")\n",
    "\n",
    "# MOINS BON QUE L'ANCIENNE VERSION MDRRRR !!!"
   ]
  },
  {
   "cell_type": "markdown",
   "id": "eb16bcdf",
   "metadata": {
    "papermill": {
     "duration": 0.006773,
     "end_time": "2024-12-27T00:07:16.822480",
     "exception": false,
     "start_time": "2024-12-27T00:07:16.815707",
     "status": "completed"
    },
    "tags": []
   },
   "source": [
    "### Gros feature engineering (inspiré d'un tuto)"
   ]
  },
  {
   "cell_type": "code",
   "execution_count": 20,
   "id": "3e641aaf",
   "metadata": {
    "execution": {
     "iopub.execute_input": "2024-12-27T00:07:16.837950Z",
     "iopub.status.busy": "2024-12-27T00:07:16.837564Z",
     "iopub.status.idle": "2024-12-27T00:07:17.299348Z",
     "shell.execute_reply": "2024-12-27T00:07:17.298473Z"
    },
    "papermill": {
     "duration": 0.472303,
     "end_time": "2024-12-27T00:07:17.301712",
     "exception": false,
     "start_time": "2024-12-27T00:07:16.829409",
     "status": "completed"
    },
    "tags": []
   },
   "outputs": [],
   "source": [
    "import seaborn as sns\n",
    "sns.set(style=\"darkgrid\")\n",
    "\n",
    "from sklearn.ensemble import RandomForestClassifier\n",
    "from sklearn.preprocessing import OneHotEncoder, LabelEncoder, StandardScaler\n",
    "from sklearn.metrics import roc_curve, auc\n",
    "from sklearn.model_selection import StratifiedKFold\n",
    "\n",
    "import string\n",
    "import warnings\n",
    "warnings.filterwarnings(\"ignore\")\n",
    "\n",
    "SEED = 42"
   ]
  },
  {
   "cell_type": "code",
   "execution_count": 21,
   "id": "e607cf95",
   "metadata": {
    "execution": {
     "iopub.execute_input": "2024-12-27T00:07:17.318507Z",
     "iopub.status.busy": "2024-12-27T00:07:17.317410Z",
     "iopub.status.idle": "2024-12-27T00:07:17.342381Z",
     "shell.execute_reply": "2024-12-27T00:07:17.341415Z"
    },
    "papermill": {
     "duration": 0.035034,
     "end_time": "2024-12-27T00:07:17.344360",
     "exception": false,
     "start_time": "2024-12-27T00:07:17.309326",
     "status": "completed"
    },
    "tags": []
   },
   "outputs": [
    {
     "name": "stdout",
     "output_type": "stream",
     "text": [
      "Number of Training Examples = 891\n",
      "Number of Test Examples= 418\n",
      "\n",
      "Training X Shape = (891, 12)\n",
      "Training y Shape = 891\n",
      "Test X Shape = (418, 11)\n",
      "Test y Shape = 418\n",
      "Index(['PassengerId', 'Survived', 'Pclass', 'Name', 'Sex', 'Age', 'SibSp',\n",
      "       'Parch', 'Ticket', 'Fare', 'Cabin', 'Embarked'],\n",
      "      dtype='object')\n",
      "Index(['PassengerId', 'Pclass', 'Name', 'Sex', 'Age', 'SibSp', 'Parch',\n",
      "       'Ticket', 'Fare', 'Cabin', 'Embarked'],\n",
      "      dtype='object')\n"
     ]
    }
   ],
   "source": [
    "def concat_df(train_data, test_data):\n",
    "    # Retourne un df training + test concaténé\n",
    "    return pd.concat([train_data, test_data], sort=True).reset_index(drop=True)\n",
    "\n",
    "def divide_df(all_data):\n",
    "    # Retourne deux dfs d'entraînement et de test\n",
    "    return all_data.loc[:890], all_data.loc[891:].drop(['Survived'], axis=1)\n",
    "\n",
    "df_train = pd.read_csv('/kaggle/input/titanic/train.csv')\n",
    "df_test = pd.read_csv('/kaggle/input/titanic/test.csv')\n",
    "df_all = concat_df(df_train, df_test)\n",
    "\n",
    "df_train.name = \"Training Set\"\n",
    "df_test.name = \"Test Set\"\n",
    "df_all.name = \"All Set\"\n",
    "\n",
    "dfs =[df_train, df_test]\n",
    "\n",
    "print('Number of Training Examples = {}'.format(df_train.shape[0]))\n",
    "print('Number of Test Examples= {}\\n'.format(df_test.shape[0]))\n",
    "print('Training X Shape = {}'.format(df_train.shape))\n",
    "print('Training y Shape = {}'.format(df_train['Survived'].shape[0]))\n",
    "print('Test X Shape = {}'.format(df_test.shape))\n",
    "print('Test y Shape = {}'.format(df_test.shape[0]))\n",
    "print(df_train.columns)\n",
    "print(df_test.columns)"
   ]
  },
  {
   "cell_type": "markdown",
   "id": "0a5ed661",
   "metadata": {
    "papermill": {
     "duration": 0.006942,
     "end_time": "2024-12-27T00:07:17.358480",
     "exception": false,
     "start_time": "2024-12-27T00:07:17.351538",
     "status": "completed"
    },
    "tags": []
   },
   "source": [
    "#### Missing Values"
   ]
  },
  {
   "cell_type": "code",
   "execution_count": 22,
   "id": "07321c26",
   "metadata": {
    "execution": {
     "iopub.execute_input": "2024-12-27T00:07:17.374137Z",
     "iopub.status.busy": "2024-12-27T00:07:17.373521Z",
     "iopub.status.idle": "2024-12-27T00:07:17.384259Z",
     "shell.execute_reply": "2024-12-27T00:07:17.383257Z"
    },
    "papermill": {
     "duration": 0.021175,
     "end_time": "2024-12-27T00:07:17.386617",
     "exception": false,
     "start_time": "2024-12-27T00:07:17.365442",
     "status": "completed"
    },
    "tags": []
   },
   "outputs": [
    {
     "name": "stdout",
     "output_type": "stream",
     "text": [
      "Training Set\n",
      "PassengerId column missing values: 0\n",
      "\n",
      "\n",
      "Survived column missing values: 0\n",
      "\n",
      "\n",
      "Pclass column missing values: 0\n",
      "\n",
      "\n",
      "Name column missing values: 0\n",
      "\n",
      "\n",
      "Sex column missing values: 0\n",
      "\n",
      "\n",
      "Age column missing values: 177\n",
      "\n",
      "\n",
      "SibSp column missing values: 0\n",
      "\n",
      "\n",
      "Parch column missing values: 0\n",
      "\n",
      "\n",
      "Ticket column missing values: 0\n",
      "\n",
      "\n",
      "Fare column missing values: 0\n",
      "\n",
      "\n",
      "Cabin column missing values: 687\n",
      "\n",
      "\n",
      "Embarked column missing values: 2\n",
      "\n",
      "\n",
      "Test Set\n",
      "PassengerId column missing values: 0\n",
      "\n",
      "\n",
      "Pclass column missing values: 0\n",
      "\n",
      "\n",
      "Name column missing values: 0\n",
      "\n",
      "\n",
      "Sex column missing values: 0\n",
      "\n",
      "\n",
      "Age column missing values: 86\n",
      "\n",
      "\n",
      "SibSp column missing values: 0\n",
      "\n",
      "\n",
      "Parch column missing values: 0\n",
      "\n",
      "\n",
      "Ticket column missing values: 0\n",
      "\n",
      "\n",
      "Fare column missing values: 1\n",
      "\n",
      "\n",
      "Cabin column missing values: 327\n",
      "\n",
      "\n",
      "Embarked column missing values: 0\n",
      "\n",
      "\n"
     ]
    }
   ],
   "source": [
    "def display_missing(df):\n",
    "    for col in df.columns.tolist():\n",
    "        print('{} column missing values: {}'.format(col, df[col].isnull().sum()))\n",
    "        print(\"\\n\")\n",
    "\n",
    "for df in dfs:\n",
    "    print('{}'.format(df.name))\n",
    "    display_missing(df)"
   ]
  },
  {
   "cell_type": "code",
   "execution_count": null,
   "id": "8d8aa1a8",
   "metadata": {
    "papermill": {
     "duration": 0.007464,
     "end_time": "2024-12-27T00:07:17.402151",
     "exception": false,
     "start_time": "2024-12-27T00:07:17.394687",
     "status": "completed"
    },
    "tags": []
   },
   "outputs": [],
   "source": []
  }
 ],
 "metadata": {
  "kaggle": {
   "accelerator": "none",
   "dataSources": [
    {
     "databundleVersionId": 26502,
     "sourceId": 3136,
     "sourceType": "competition"
    }
   ],
   "dockerImageVersionId": 30804,
   "isGpuEnabled": false,
   "isInternetEnabled": true,
   "language": "python",
   "sourceType": "notebook"
  },
  "kernelspec": {
   "display_name": "Python 3",
   "language": "python",
   "name": "python3"
  },
  "language_info": {
   "codemirror_mode": {
    "name": "ipython",
    "version": 3
   },
   "file_extension": ".py",
   "mimetype": "text/x-python",
   "name": "python",
   "nbconvert_exporter": "python",
   "pygments_lexer": "ipython3",
   "version": "3.10.14"
  },
  "papermill": {
   "default_parameters": {},
   "duration": 18.845739,
   "end_time": "2024-12-27T00:07:18.030277",
   "environment_variables": {},
   "exception": null,
   "input_path": "__notebook__.ipynb",
   "output_path": "__notebook__.ipynb",
   "parameters": {},
   "start_time": "2024-12-27T00:06:59.184538",
   "version": "2.6.0"
  }
 },
 "nbformat": 4,
 "nbformat_minor": 5
}
