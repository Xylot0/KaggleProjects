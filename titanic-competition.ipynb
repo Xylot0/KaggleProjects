{
 "cells": [
  {
   "cell_type": "code",
   "execution_count": 1,
   "id": "f032f907",
   "metadata": {
    "_cell_guid": "b1076dfc-b9ad-4769-8c92-a6c4dae69d19",
    "_uuid": "8f2839f25d086af736a60e9eeb907d3b93b6e0e5",
    "execution": {
     "iopub.execute_input": "2024-12-27T01:17:47.390341Z",
     "iopub.status.busy": "2024-12-27T01:17:47.389019Z",
     "iopub.status.idle": "2024-12-27T01:17:48.416358Z",
     "shell.execute_reply": "2024-12-27T01:17:48.415067Z"
    },
    "papermill": {
     "duration": 1.040158,
     "end_time": "2024-12-27T01:17:48.418640",
     "exception": false,
     "start_time": "2024-12-27T01:17:47.378482",
     "status": "completed"
    },
    "tags": []
   },
   "outputs": [
    {
     "name": "stdout",
     "output_type": "stream",
     "text": [
      "/kaggle/input/titanic/train.csv\n",
      "/kaggle/input/titanic/test.csv\n",
      "/kaggle/input/titanic/gender_submission.csv\n"
     ]
    }
   ],
   "source": [
    "# This Python 3 environment comes with many helpful analytics libraries installed\n",
    "# It is defined by the kaggle/python Docker image: https://github.com/kaggle/docker-python\n",
    "# For example, here's several helpful packages to load\n",
    "\n",
    "import numpy as np # linear algebra\n",
    "import pandas as pd # data processing, CSV file I/O (e.g. pd.read_csv)\n",
    "\n",
    "# Input data files are available in the read-only \"../input/\" directory\n",
    "# For example, running this (by clicking run or pressing Shift+Enter) will list all files under the input directory\n",
    "\n",
    "import os\n",
    "for dirname, _, filenames in os.walk('/kaggle/input'):\n",
    "    for filename in filenames:\n",
    "        print(os.path.join(dirname, filename))\n",
    "\n",
    "# You can write up to 20GB to the current directory (/kaggle/working/) that gets preserved as output when you create a version using \"Save & Run All\" \n",
    "# You can also write temporary files to /kaggle/temp/, but they won't be saved outside of the current session"
   ]
  },
  {
   "cell_type": "code",
   "execution_count": 2,
   "id": "e78e5097",
   "metadata": {
    "execution": {
     "iopub.execute_input": "2024-12-27T01:17:48.438199Z",
     "iopub.status.busy": "2024-12-27T01:17:48.437309Z",
     "iopub.status.idle": "2024-12-27T01:17:48.480881Z",
     "shell.execute_reply": "2024-12-27T01:17:48.479578Z"
    },
    "papermill": {
     "duration": 0.056309,
     "end_time": "2024-12-27T01:17:48.483275",
     "exception": false,
     "start_time": "2024-12-27T01:17:48.426966",
     "status": "completed"
    },
    "tags": []
   },
   "outputs": [
    {
     "data": {
      "text/html": [
       "<div>\n",
       "<style scoped>\n",
       "    .dataframe tbody tr th:only-of-type {\n",
       "        vertical-align: middle;\n",
       "    }\n",
       "\n",
       "    .dataframe tbody tr th {\n",
       "        vertical-align: top;\n",
       "    }\n",
       "\n",
       "    .dataframe thead th {\n",
       "        text-align: right;\n",
       "    }\n",
       "</style>\n",
       "<table border=\"1\" class=\"dataframe\">\n",
       "  <thead>\n",
       "    <tr style=\"text-align: right;\">\n",
       "      <th></th>\n",
       "      <th>PassengerId</th>\n",
       "      <th>Survived</th>\n",
       "      <th>Pclass</th>\n",
       "      <th>Name</th>\n",
       "      <th>Sex</th>\n",
       "      <th>Age</th>\n",
       "      <th>SibSp</th>\n",
       "      <th>Parch</th>\n",
       "      <th>Ticket</th>\n",
       "      <th>Fare</th>\n",
       "      <th>Cabin</th>\n",
       "      <th>Embarked</th>\n",
       "    </tr>\n",
       "  </thead>\n",
       "  <tbody>\n",
       "    <tr>\n",
       "      <th>0</th>\n",
       "      <td>1</td>\n",
       "      <td>0</td>\n",
       "      <td>3</td>\n",
       "      <td>Braund, Mr. Owen Harris</td>\n",
       "      <td>male</td>\n",
       "      <td>22.0</td>\n",
       "      <td>1</td>\n",
       "      <td>0</td>\n",
       "      <td>A/5 21171</td>\n",
       "      <td>7.2500</td>\n",
       "      <td>NaN</td>\n",
       "      <td>S</td>\n",
       "    </tr>\n",
       "    <tr>\n",
       "      <th>1</th>\n",
       "      <td>2</td>\n",
       "      <td>1</td>\n",
       "      <td>1</td>\n",
       "      <td>Cumings, Mrs. John Bradley (Florence Briggs Th...</td>\n",
       "      <td>female</td>\n",
       "      <td>38.0</td>\n",
       "      <td>1</td>\n",
       "      <td>0</td>\n",
       "      <td>PC 17599</td>\n",
       "      <td>71.2833</td>\n",
       "      <td>C85</td>\n",
       "      <td>C</td>\n",
       "    </tr>\n",
       "    <tr>\n",
       "      <th>2</th>\n",
       "      <td>3</td>\n",
       "      <td>1</td>\n",
       "      <td>3</td>\n",
       "      <td>Heikkinen, Miss. Laina</td>\n",
       "      <td>female</td>\n",
       "      <td>26.0</td>\n",
       "      <td>0</td>\n",
       "      <td>0</td>\n",
       "      <td>STON/O2. 3101282</td>\n",
       "      <td>7.9250</td>\n",
       "      <td>NaN</td>\n",
       "      <td>S</td>\n",
       "    </tr>\n",
       "    <tr>\n",
       "      <th>3</th>\n",
       "      <td>4</td>\n",
       "      <td>1</td>\n",
       "      <td>1</td>\n",
       "      <td>Futrelle, Mrs. Jacques Heath (Lily May Peel)</td>\n",
       "      <td>female</td>\n",
       "      <td>35.0</td>\n",
       "      <td>1</td>\n",
       "      <td>0</td>\n",
       "      <td>113803</td>\n",
       "      <td>53.1000</td>\n",
       "      <td>C123</td>\n",
       "      <td>S</td>\n",
       "    </tr>\n",
       "    <tr>\n",
       "      <th>4</th>\n",
       "      <td>5</td>\n",
       "      <td>0</td>\n",
       "      <td>3</td>\n",
       "      <td>Allen, Mr. William Henry</td>\n",
       "      <td>male</td>\n",
       "      <td>35.0</td>\n",
       "      <td>0</td>\n",
       "      <td>0</td>\n",
       "      <td>373450</td>\n",
       "      <td>8.0500</td>\n",
       "      <td>NaN</td>\n",
       "      <td>S</td>\n",
       "    </tr>\n",
       "  </tbody>\n",
       "</table>\n",
       "</div>"
      ],
      "text/plain": [
       "   PassengerId  Survived  Pclass  \\\n",
       "0            1         0       3   \n",
       "1            2         1       1   \n",
       "2            3         1       3   \n",
       "3            4         1       1   \n",
       "4            5         0       3   \n",
       "\n",
       "                                                Name     Sex   Age  SibSp  \\\n",
       "0                            Braund, Mr. Owen Harris    male  22.0      1   \n",
       "1  Cumings, Mrs. John Bradley (Florence Briggs Th...  female  38.0      1   \n",
       "2                             Heikkinen, Miss. Laina  female  26.0      0   \n",
       "3       Futrelle, Mrs. Jacques Heath (Lily May Peel)  female  35.0      1   \n",
       "4                           Allen, Mr. William Henry    male  35.0      0   \n",
       "\n",
       "   Parch            Ticket     Fare Cabin Embarked  \n",
       "0      0         A/5 21171   7.2500   NaN        S  \n",
       "1      0          PC 17599  71.2833   C85        C  \n",
       "2      0  STON/O2. 3101282   7.9250   NaN        S  \n",
       "3      0            113803  53.1000  C123        S  \n",
       "4      0            373450   8.0500   NaN        S  "
      ]
     },
     "execution_count": 2,
     "metadata": {},
     "output_type": "execute_result"
    }
   ],
   "source": [
    "train_data = pd.read_csv(\"/kaggle/input/titanic/train.csv\")\n",
    "train_data.head()"
   ]
  },
  {
   "cell_type": "code",
   "execution_count": 3,
   "id": "10343e4c",
   "metadata": {
    "execution": {
     "iopub.execute_input": "2024-12-27T01:17:48.501338Z",
     "iopub.status.busy": "2024-12-27T01:17:48.500915Z",
     "iopub.status.idle": "2024-12-27T01:17:48.521781Z",
     "shell.execute_reply": "2024-12-27T01:17:48.520551Z"
    },
    "papermill": {
     "duration": 0.032783,
     "end_time": "2024-12-27T01:17:48.524331",
     "exception": false,
     "start_time": "2024-12-27T01:17:48.491548",
     "status": "completed"
    },
    "tags": []
   },
   "outputs": [
    {
     "data": {
      "text/html": [
       "<div>\n",
       "<style scoped>\n",
       "    .dataframe tbody tr th:only-of-type {\n",
       "        vertical-align: middle;\n",
       "    }\n",
       "\n",
       "    .dataframe tbody tr th {\n",
       "        vertical-align: top;\n",
       "    }\n",
       "\n",
       "    .dataframe thead th {\n",
       "        text-align: right;\n",
       "    }\n",
       "</style>\n",
       "<table border=\"1\" class=\"dataframe\">\n",
       "  <thead>\n",
       "    <tr style=\"text-align: right;\">\n",
       "      <th></th>\n",
       "      <th>PassengerId</th>\n",
       "      <th>Pclass</th>\n",
       "      <th>Name</th>\n",
       "      <th>Sex</th>\n",
       "      <th>Age</th>\n",
       "      <th>SibSp</th>\n",
       "      <th>Parch</th>\n",
       "      <th>Ticket</th>\n",
       "      <th>Fare</th>\n",
       "      <th>Cabin</th>\n",
       "      <th>Embarked</th>\n",
       "    </tr>\n",
       "  </thead>\n",
       "  <tbody>\n",
       "    <tr>\n",
       "      <th>0</th>\n",
       "      <td>892</td>\n",
       "      <td>3</td>\n",
       "      <td>Kelly, Mr. James</td>\n",
       "      <td>male</td>\n",
       "      <td>34.5</td>\n",
       "      <td>0</td>\n",
       "      <td>0</td>\n",
       "      <td>330911</td>\n",
       "      <td>7.8292</td>\n",
       "      <td>NaN</td>\n",
       "      <td>Q</td>\n",
       "    </tr>\n",
       "    <tr>\n",
       "      <th>1</th>\n",
       "      <td>893</td>\n",
       "      <td>3</td>\n",
       "      <td>Wilkes, Mrs. James (Ellen Needs)</td>\n",
       "      <td>female</td>\n",
       "      <td>47.0</td>\n",
       "      <td>1</td>\n",
       "      <td>0</td>\n",
       "      <td>363272</td>\n",
       "      <td>7.0000</td>\n",
       "      <td>NaN</td>\n",
       "      <td>S</td>\n",
       "    </tr>\n",
       "    <tr>\n",
       "      <th>2</th>\n",
       "      <td>894</td>\n",
       "      <td>2</td>\n",
       "      <td>Myles, Mr. Thomas Francis</td>\n",
       "      <td>male</td>\n",
       "      <td>62.0</td>\n",
       "      <td>0</td>\n",
       "      <td>0</td>\n",
       "      <td>240276</td>\n",
       "      <td>9.6875</td>\n",
       "      <td>NaN</td>\n",
       "      <td>Q</td>\n",
       "    </tr>\n",
       "    <tr>\n",
       "      <th>3</th>\n",
       "      <td>895</td>\n",
       "      <td>3</td>\n",
       "      <td>Wirz, Mr. Albert</td>\n",
       "      <td>male</td>\n",
       "      <td>27.0</td>\n",
       "      <td>0</td>\n",
       "      <td>0</td>\n",
       "      <td>315154</td>\n",
       "      <td>8.6625</td>\n",
       "      <td>NaN</td>\n",
       "      <td>S</td>\n",
       "    </tr>\n",
       "    <tr>\n",
       "      <th>4</th>\n",
       "      <td>896</td>\n",
       "      <td>3</td>\n",
       "      <td>Hirvonen, Mrs. Alexander (Helga E Lindqvist)</td>\n",
       "      <td>female</td>\n",
       "      <td>22.0</td>\n",
       "      <td>1</td>\n",
       "      <td>1</td>\n",
       "      <td>3101298</td>\n",
       "      <td>12.2875</td>\n",
       "      <td>NaN</td>\n",
       "      <td>S</td>\n",
       "    </tr>\n",
       "  </tbody>\n",
       "</table>\n",
       "</div>"
      ],
      "text/plain": [
       "   PassengerId  Pclass                                          Name     Sex  \\\n",
       "0          892       3                              Kelly, Mr. James    male   \n",
       "1          893       3              Wilkes, Mrs. James (Ellen Needs)  female   \n",
       "2          894       2                     Myles, Mr. Thomas Francis    male   \n",
       "3          895       3                              Wirz, Mr. Albert    male   \n",
       "4          896       3  Hirvonen, Mrs. Alexander (Helga E Lindqvist)  female   \n",
       "\n",
       "    Age  SibSp  Parch   Ticket     Fare Cabin Embarked  \n",
       "0  34.5      0      0   330911   7.8292   NaN        Q  \n",
       "1  47.0      1      0   363272   7.0000   NaN        S  \n",
       "2  62.0      0      0   240276   9.6875   NaN        Q  \n",
       "3  27.0      0      0   315154   8.6625   NaN        S  \n",
       "4  22.0      1      1  3101298  12.2875   NaN        S  "
      ]
     },
     "execution_count": 3,
     "metadata": {},
     "output_type": "execute_result"
    }
   ],
   "source": [
    "test_data = pd.read_csv(\"/kaggle/input/titanic/test.csv\")\n",
    "test_data.head()"
   ]
  },
  {
   "cell_type": "code",
   "execution_count": 4,
   "id": "db12499e",
   "metadata": {
    "execution": {
     "iopub.execute_input": "2024-12-27T01:17:48.543458Z",
     "iopub.status.busy": "2024-12-27T01:17:48.543034Z",
     "iopub.status.idle": "2024-12-27T01:17:48.555587Z",
     "shell.execute_reply": "2024-12-27T01:17:48.554433Z"
    },
    "papermill": {
     "duration": 0.025285,
     "end_time": "2024-12-27T01:17:48.558507",
     "exception": false,
     "start_time": "2024-12-27T01:17:48.533222",
     "status": "completed"
    },
    "tags": []
   },
   "outputs": [
    {
     "name": "stdout",
     "output_type": "stream",
     "text": [
      "% of women who survived: 0.7420382165605095\n"
     ]
    }
   ],
   "source": [
    "women = train_data.loc[train_data.Sex == 'female'][\"Survived\"]\n",
    "rate_women = sum(women)/len(women)\n",
    "\n",
    "print(\"% of women who survived:\", rate_women)"
   ]
  },
  {
   "cell_type": "code",
   "execution_count": 5,
   "id": "76e6e6f8",
   "metadata": {
    "execution": {
     "iopub.execute_input": "2024-12-27T01:17:48.578219Z",
     "iopub.status.busy": "2024-12-27T01:17:48.577817Z",
     "iopub.status.idle": "2024-12-27T01:17:48.586372Z",
     "shell.execute_reply": "2024-12-27T01:17:48.585094Z"
    },
    "papermill": {
     "duration": 0.021265,
     "end_time": "2024-12-27T01:17:48.588621",
     "exception": false,
     "start_time": "2024-12-27T01:17:48.567356",
     "status": "completed"
    },
    "tags": []
   },
   "outputs": [
    {
     "name": "stdout",
     "output_type": "stream",
     "text": [
      "% of men who survived: 0.18890814558058924\n"
     ]
    }
   ],
   "source": [
    "men = train_data.loc[train_data.Sex == 'male'][\"Survived\"]\n",
    "rate_men = sum(men)/len(men)\n",
    "\n",
    "print(\"% of men who survived:\", rate_men)"
   ]
  },
  {
   "cell_type": "code",
   "execution_count": 6,
   "id": "329fe70c",
   "metadata": {
    "execution": {
     "iopub.execute_input": "2024-12-27T01:17:48.607918Z",
     "iopub.status.busy": "2024-12-27T01:17:48.607476Z",
     "iopub.status.idle": "2024-12-27T01:17:48.652101Z",
     "shell.execute_reply": "2024-12-27T01:17:48.650878Z"
    },
    "papermill": {
     "duration": 0.057743,
     "end_time": "2024-12-27T01:17:48.654759",
     "exception": false,
     "start_time": "2024-12-27T01:17:48.597016",
     "status": "completed"
    },
    "tags": []
   },
   "outputs": [
    {
     "name": "stdout",
     "output_type": "stream",
     "text": [
      "       PassengerId    Survived      Pclass         Age       SibSp  \\\n",
      "count   891.000000  891.000000  891.000000  714.000000  891.000000   \n",
      "mean    446.000000    0.383838    2.308642   29.699118    0.523008   \n",
      "std     257.353842    0.486592    0.836071   14.526497    1.102743   \n",
      "min       1.000000    0.000000    1.000000    0.420000    0.000000   \n",
      "25%     223.500000    0.000000    2.000000   20.125000    0.000000   \n",
      "50%     446.000000    0.000000    3.000000   28.000000    0.000000   \n",
      "75%     668.500000    1.000000    3.000000   38.000000    1.000000   \n",
      "max     891.000000    1.000000    3.000000   80.000000    8.000000   \n",
      "\n",
      "            Parch        Fare  \n",
      "count  891.000000  891.000000  \n",
      "mean     0.381594   32.204208  \n",
      "std      0.806057   49.693429  \n",
      "min      0.000000    0.000000  \n",
      "25%      0.000000    7.910400  \n",
      "50%      0.000000   14.454200  \n",
      "75%      0.000000   31.000000  \n",
      "max      6.000000  512.329200  \n",
      "<class 'pandas.core.frame.DataFrame'>\n",
      "RangeIndex: 891 entries, 0 to 890\n",
      "Data columns (total 12 columns):\n",
      " #   Column       Non-Null Count  Dtype  \n",
      "---  ------       --------------  -----  \n",
      " 0   PassengerId  891 non-null    int64  \n",
      " 1   Survived     891 non-null    int64  \n",
      " 2   Pclass       891 non-null    int64  \n",
      " 3   Name         891 non-null    object \n",
      " 4   Sex          891 non-null    object \n",
      " 5   Age          714 non-null    float64\n",
      " 6   SibSp        891 non-null    int64  \n",
      " 7   Parch        891 non-null    int64  \n",
      " 8   Ticket       891 non-null    object \n",
      " 9   Fare         891 non-null    float64\n",
      " 10  Cabin        204 non-null    object \n",
      " 11  Embarked     889 non-null    object \n",
      "dtypes: float64(2), int64(5), object(5)\n",
      "memory usage: 83.7+ KB\n",
      "None\n"
     ]
    }
   ],
   "source": [
    "print(train_data.describe())\n",
    "print(train_data.info())"
   ]
  },
  {
   "cell_type": "code",
   "execution_count": 7,
   "id": "a7e8d746",
   "metadata": {
    "execution": {
     "iopub.execute_input": "2024-12-27T01:17:48.673952Z",
     "iopub.status.busy": "2024-12-27T01:17:48.673186Z",
     "iopub.status.idle": "2024-12-27T01:17:48.684263Z",
     "shell.execute_reply": "2024-12-27T01:17:48.683154Z"
    },
    "papermill": {
     "duration": 0.023604,
     "end_time": "2024-12-27T01:17:48.687055",
     "exception": false,
     "start_time": "2024-12-27T01:17:48.663451",
     "status": "completed"
    },
    "tags": []
   },
   "outputs": [
    {
     "name": "stdout",
     "output_type": "stream",
     "text": [
      "     PassengerId  Survived  Pclass                                      Name  \\\n",
      "5              6         0       3                          Moran, Mr. James   \n",
      "17            18         1       2              Williams, Mr. Charles Eugene   \n",
      "19            20         1       3                   Masselmani, Mrs. Fatima   \n",
      "26            27         0       3                   Emir, Mr. Farred Chehab   \n",
      "28            29         1       3             O'Dwyer, Miss. Ellen \"Nellie\"   \n",
      "..           ...       ...     ...                                       ...   \n",
      "859          860         0       3                          Razi, Mr. Raihed   \n",
      "863          864         0       3         Sage, Miss. Dorothy Edith \"Dolly\"   \n",
      "868          869         0       3               van Melkebeke, Mr. Philemon   \n",
      "878          879         0       3                        Laleff, Mr. Kristo   \n",
      "888          889         0       3  Johnston, Miss. Catherine Helen \"Carrie\"   \n",
      "\n",
      "        Sex  Age  SibSp  Parch      Ticket     Fare Cabin Embarked  \n",
      "5      male  NaN      0      0      330877   8.4583   NaN        Q  \n",
      "17     male  NaN      0      0      244373  13.0000   NaN        S  \n",
      "19   female  NaN      0      0        2649   7.2250   NaN        C  \n",
      "26     male  NaN      0      0        2631   7.2250   NaN        C  \n",
      "28   female  NaN      0      0      330959   7.8792   NaN        Q  \n",
      "..      ...  ...    ...    ...         ...      ...   ...      ...  \n",
      "859    male  NaN      0      0        2629   7.2292   NaN        C  \n",
      "863  female  NaN      8      2    CA. 2343  69.5500   NaN        S  \n",
      "868    male  NaN      0      0      345777   9.5000   NaN        S  \n",
      "878    male  NaN      0      0      349217   7.8958   NaN        S  \n",
      "888  female  NaN      1      2  W./C. 6607  23.4500   NaN        S  \n",
      "\n",
      "[177 rows x 12 columns]\n"
     ]
    }
   ],
   "source": [
    "print(train_data[train_data.Age.isna()])"
   ]
  },
  {
   "cell_type": "code",
   "execution_count": 8,
   "id": "3045fa98",
   "metadata": {
    "execution": {
     "iopub.execute_input": "2024-12-27T01:17:48.706421Z",
     "iopub.status.busy": "2024-12-27T01:17:48.706017Z",
     "iopub.status.idle": "2024-12-27T01:17:48.711104Z",
     "shell.execute_reply": "2024-12-27T01:17:48.710040Z"
    },
    "papermill": {
     "duration": 0.017453,
     "end_time": "2024-12-27T01:17:48.713216",
     "exception": false,
     "start_time": "2024-12-27T01:17:48.695763",
     "status": "completed"
    },
    "tags": []
   },
   "outputs": [],
   "source": [
    "#from sklearn.ensemble import RandomForestClassifier\n",
    "\n",
    "#y = train_data[\"Survived\"]\n",
    "\n",
    "#features = [\"Pclass\",\"Sex\", \"SibSp\", \"Parch\"]\n",
    "#X = pd.get_dummies(train_data[features])\n",
    "#X_test = pd.get_dummies(test_data[features])\n",
    "\n",
    "#model = RandomForestClassifier(n_estimators=100, max_depth=5, random_state=1)\n",
    "#model.fit(X,y)\n",
    "#predictions = model.predict(X_test)\n",
    "\n",
    "#output = pd.DataFrame({'PassengerId': test_data.PassengerId, 'Survived': predictions})\n",
    "#output.to_csv('submission.csv', index=False)\n",
    "#print(\"Your submission was successfully saved!\")"
   ]
  },
  {
   "cell_type": "markdown",
   "id": "f7cb0300",
   "metadata": {
    "papermill": {
     "duration": 0.008373,
     "end_time": "2024-12-27T01:17:48.730163",
     "exception": false,
     "start_time": "2024-12-27T01:17:48.721790",
     "status": "completed"
    },
    "tags": []
   },
   "source": [
    "Ajout de nouvelles features au dataset : Feature Engineering"
   ]
  },
  {
   "cell_type": "code",
   "execution_count": 9,
   "id": "73be3a24",
   "metadata": {
    "execution": {
     "iopub.execute_input": "2024-12-27T01:17:48.749235Z",
     "iopub.status.busy": "2024-12-27T01:17:48.748845Z",
     "iopub.status.idle": "2024-12-27T01:17:48.762220Z",
     "shell.execute_reply": "2024-12-27T01:17:48.760996Z"
    },
    "papermill": {
     "duration": 0.026003,
     "end_time": "2024-12-27T01:17:48.764716",
     "exception": false,
     "start_time": "2024-12-27T01:17:48.738713",
     "status": "completed"
    },
    "tags": []
   },
   "outputs": [],
   "source": [
    "## Identification des noms de famille\n",
    "\n",
    "name_df = train_data[\"Name\"].str.split().str[0]\n",
    "name_df_test = test_data[\"Name\"].str.split().str[0]\n",
    "\n",
    "doublons = name_df.value_counts()[lambda x: x > 1].index\n",
    "name_df_doublons = train_data[name_df.isin(doublons)]"
   ]
  },
  {
   "cell_type": "code",
   "execution_count": 10,
   "id": "4c0ed2a7",
   "metadata": {
    "execution": {
     "iopub.execute_input": "2024-12-27T01:17:48.783959Z",
     "iopub.status.busy": "2024-12-27T01:17:48.783566Z",
     "iopub.status.idle": "2024-12-27T01:17:48.790275Z",
     "shell.execute_reply": "2024-12-27T01:17:48.788993Z"
    },
    "papermill": {
     "duration": 0.019116,
     "end_time": "2024-12-27T01:17:48.792665",
     "exception": false,
     "start_time": "2024-12-27T01:17:48.773549",
     "status": "completed"
    },
    "tags": []
   },
   "outputs": [],
   "source": [
    "train_data[\"Nom de famille\"] = name_df\n",
    "test_data[\"Nom de famille\"] = name_df_test"
   ]
  },
  {
   "cell_type": "code",
   "execution_count": 11,
   "id": "266fe64f",
   "metadata": {
    "execution": {
     "iopub.execute_input": "2024-12-27T01:17:48.812140Z",
     "iopub.status.busy": "2024-12-27T01:17:48.811113Z",
     "iopub.status.idle": "2024-12-27T01:17:48.824487Z",
     "shell.execute_reply": "2024-12-27T01:17:48.823338Z"
    },
    "papermill": {
     "duration": 0.026043,
     "end_time": "2024-12-27T01:17:48.827335",
     "exception": false,
     "start_time": "2024-12-27T01:17:48.801292",
     "status": "completed"
    },
    "tags": []
   },
   "outputs": [
    {
     "name": "stdout",
     "output_type": "stream",
     "text": [
      "     PassengerId  Survived  Pclass                       Name   Sex   Age  \\\n",
      "0              1         0       3    Braund, Mr. Owen Harris  male  22.0   \n",
      "477          478         0       3  Braund, Mr. Lewis Richard  male  29.0   \n",
      "\n",
      "     SibSp  Parch     Ticket    Fare Cabin Embarked Nom de famille  \n",
      "0        1      0  A/5 21171  7.2500   NaN        S        Braund,  \n",
      "477      1      0       3460  7.0458   NaN        S        Braund,  \n"
     ]
    }
   ],
   "source": [
    "ex_doublon = train_data[train_data[\"Nom de famille\"] == train_data[\"Nom de famille\"].loc[0]]\n",
    "print(ex_doublon)"
   ]
  },
  {
   "cell_type": "code",
   "execution_count": 12,
   "id": "8efaa762",
   "metadata": {
    "execution": {
     "iopub.execute_input": "2024-12-27T01:17:48.847131Z",
     "iopub.status.busy": "2024-12-27T01:17:48.846720Z",
     "iopub.status.idle": "2024-12-27T01:17:49.089448Z",
     "shell.execute_reply": "2024-12-27T01:17:49.087901Z"
    },
    "papermill": {
     "duration": 0.256067,
     "end_time": "2024-12-27T01:17:49.092097",
     "exception": false,
     "start_time": "2024-12-27T01:17:48.836030",
     "status": "completed"
    },
    "tags": []
   },
   "outputs": [],
   "source": [
    "## Gestion des valeurs manquantes des âges\n",
    "\n",
    "# Première idée : gérer les familles où on connaît l'âge d'un autre membre et attribuer la moyenne pour les autres selon leur sexe\n",
    "import random\n",
    "\n",
    "def missing_values_age(data, complete_data, full_data):\n",
    "    for index, row in data.iterrows():\n",
    "        ind_nf = row[\"Nom de famille\"]\n",
    "        if row.SibSp > 0:\n",
    "            data_related = complete_data.loc[(complete_data[\"Nom de famille\"] == ind_nf) & (complete_data['SibSp'] == row.SibSp)]\n",
    "            if not(data_related.empty):\n",
    "                age_sib = data_related['Age'].item()\n",
    "                full_data.at[index, 'Age'] = round(random.uniform(age_sib - 3, age_sib + 3))\n",
    "            else:\n",
    "                full_data.at[index, 'Age'] = round(np.mean(complete_data[complete_data.Sex == row.Sex]['Age']))\n",
    "        elif row.Parch > 0:\n",
    "            data_related = complete_data.loc[(complete_data[\"Nom de famille\"] == ind_nf) & (complete_data['Parch'] == row.Parch)]\n",
    "            if not(data_related.empty):\n",
    "                age_parch = data_related['Age'].item()\n",
    "                if age_parch < 21:\n",
    "                    full_data.at[index, 'Age'] = round(random.uniform(age_parch + 26, age_parch + 32))\n",
    "                elif age_parch > 30:\n",
    "                    full_data.at[index, 'Age'] = round(random.uniform(age_parch - 29, age_parch - 25))\n",
    "                else:\n",
    "                    full_data.at[index, 'Age'] = round(np.mean(complete_data[complete_data.Sex == row.Sex]['Age']))\n",
    "            else:\n",
    "                full_data.at[index, 'Age'] = round(np.mean(complete_data[complete_data.Sex == row.Sex]['Age']))\n",
    "        else:\n",
    "            full_data.at[index, 'Age'] = round(np.mean(complete_data[complete_data.Sex == row.Sex]['Age']))\n",
    "\n",
    "age_missing_df = train_data[train_data.Age.isna()]\n",
    "age_notmissing_df = train_data[train_data.Age > 0]\n",
    "\n",
    "missing_values_age(age_missing_df, age_notmissing_df, train_data)\n",
    "\n",
    "age_missing_dftest = test_data[test_data.Age.isna()]\n",
    "age_notmissing_dftest = test_data[test_data.Age > 0]\n",
    "\n",
    "missing_values_age(age_missing_dftest, age_notmissing_dftest, test_data)"
   ]
  },
  {
   "cell_type": "code",
   "execution_count": 13,
   "id": "d0fc5678",
   "metadata": {
    "execution": {
     "iopub.execute_input": "2024-12-27T01:17:49.112158Z",
     "iopub.status.busy": "2024-12-27T01:17:49.111764Z",
     "iopub.status.idle": "2024-12-27T01:17:49.117290Z",
     "shell.execute_reply": "2024-12-27T01:17:49.116055Z"
    },
    "papermill": {
     "duration": 0.018801,
     "end_time": "2024-12-27T01:17:49.119693",
     "exception": false,
     "start_time": "2024-12-27T01:17:49.100892",
     "status": "completed"
    },
    "tags": []
   },
   "outputs": [],
   "source": [
    "#from sklearn.ensemble import RandomForestClassifier\n",
    "\n",
    "#y = train_data[\"Survived\"]\n",
    "\n",
    "#features = [\"Pclass\",\"Sex\", \"Age\", \"SibSp\", \"Parch\"]\n",
    "#X = pd.get_dummies(train_data[features])\n",
    "#X_test = pd.get_dummies(test_data[features])\n",
    "\n",
    "#model = RandomForestClassifier(n_estimators=100, max_depth=5, random_state=1)\n",
    "#model.fit(X,y)\n",
    "#predictions = model.predict(X_test)\n",
    "\n",
    "#output = pd.DataFrame({'PassengerId': test_data.PassengerId, 'Survived': predictions})\n",
    "#output.to_csv('submission.csv', index=False)\n",
    "#print(\"Your submission was successfully saved!\")"
   ]
  },
  {
   "cell_type": "markdown",
   "id": "3068fe2c",
   "metadata": {
    "papermill": {
     "duration": 0.00849,
     "end_time": "2024-12-27T01:17:49.137721",
     "exception": false,
     "start_time": "2024-12-27T01:17:49.129231",
     "status": "completed"
    },
    "tags": []
   },
   "source": [
    "Version en ajoutant le prix du ticket comme feature"
   ]
  },
  {
   "cell_type": "code",
   "execution_count": 14,
   "id": "f5684f9e",
   "metadata": {
    "execution": {
     "iopub.execute_input": "2024-12-27T01:17:49.156782Z",
     "iopub.status.busy": "2024-12-27T01:17:49.156401Z",
     "iopub.status.idle": "2024-12-27T01:17:49.168129Z",
     "shell.execute_reply": "2024-12-27T01:17:49.167055Z"
    },
    "papermill": {
     "duration": 0.024367,
     "end_time": "2024-12-27T01:17:49.170744",
     "exception": false,
     "start_time": "2024-12-27T01:17:49.146377",
     "status": "completed"
    },
    "tags": []
   },
   "outputs": [],
   "source": [
    "def missing_values_fare(data):\n",
    "    df_missingfare = data[data.Fare.isna()]\n",
    "    df_notmissingfare = data[data.Fare > 0]\n",
    "\n",
    "    for index, row in df_missingfare.iterrows():\n",
    "        data.at[index, 'Fare'] = np.mean(df_notmissingfare[(df_notmissingfare.Pclass == row.Pclass) & (df_notmissingfare.Embarked == row.Embarked)].Fare)\n",
    "\n",
    "missing_values_fare(train_data)\n",
    "missing_values_fare(test_data)"
   ]
  },
  {
   "cell_type": "code",
   "execution_count": 15,
   "id": "99550905",
   "metadata": {
    "execution": {
     "iopub.execute_input": "2024-12-27T01:17:49.190780Z",
     "iopub.status.busy": "2024-12-27T01:17:49.189883Z",
     "iopub.status.idle": "2024-12-27T01:17:49.195224Z",
     "shell.execute_reply": "2024-12-27T01:17:49.194113Z"
    },
    "papermill": {
     "duration": 0.017673,
     "end_time": "2024-12-27T01:17:49.197576",
     "exception": false,
     "start_time": "2024-12-27T01:17:49.179903",
     "status": "completed"
    },
    "tags": []
   },
   "outputs": [],
   "source": [
    "#from sklearn.ensemble import RandomForestClassifier\n",
    "\n",
    "#y = train_data[\"Survived\"]\n",
    "\n",
    "#features = [\"Pclass\",\"Sex\", \"Age\", \"Fare\", \"SibSp\", \"Parch\"]\n",
    "#X = pd.get_dummies(train_data[features])\n",
    "#X_test = pd.get_dummies(test_data[features])\n",
    "\n",
    "#model = RandomForestClassifier(n_estimators=100, max_depth=5, random_state=1)\n",
    "#model.fit(X,y)\n",
    "#predictions = model.predict(X_test)\n",
    "\n",
    "#output = pd.DataFrame({'PassengerId': test_data.PassengerId, 'Survived': predictions})\n",
    "#output.to_csv('submission.csv', index=False)\n",
    "#print(\"Your submission was successfully saved!\")"
   ]
  },
  {
   "cell_type": "markdown",
   "id": "e05d5d62",
   "metadata": {
    "papermill": {
     "duration": 0.008649,
     "end_time": "2024-12-27T01:17:49.215064",
     "exception": false,
     "start_time": "2024-12-27T01:17:49.206415",
     "status": "completed"
    },
    "tags": []
   },
   "source": [
    "Cross-validation(KFold)"
   ]
  },
  {
   "cell_type": "code",
   "execution_count": 16,
   "id": "9b2d2986",
   "metadata": {
    "execution": {
     "iopub.execute_input": "2024-12-27T01:17:49.235484Z",
     "iopub.status.busy": "2024-12-27T01:17:49.234133Z",
     "iopub.status.idle": "2024-12-27T01:17:49.240761Z",
     "shell.execute_reply": "2024-12-27T01:17:49.239538Z"
    },
    "papermill": {
     "duration": 0.019467,
     "end_time": "2024-12-27T01:17:49.243314",
     "exception": false,
     "start_time": "2024-12-27T01:17:49.223847",
     "status": "completed"
    },
    "tags": []
   },
   "outputs": [],
   "source": [
    "#from sklearn.model_selection import train_test_split, cross_val_score, KFold\n",
    "#from sklearn.ensemble import RandomForestClassifier\n",
    "\n",
    "#y = train_data[\"Survived\"]\n",
    "\n",
    "#features = [\"Pclass\",\"Sex\", \"Age\", \"Fare\", \"SibSp\", \"Parch\"]\n",
    "#X = pd.get_dummies(train_data[features])\n",
    "#X_test = pd.get_dummies(test_data[features])\n",
    "\n",
    "#X_train, X_test, y_train, y_test = train_test_split(X, y, test_size=0.2, random_state=42)\n",
    "\n",
    "#model = RandomForestClassifier(n_estimators=100, max_depth=5, random_state=1)\n",
    "\n",
    "#kfold = KFold(n_splits=5, shuffle=True, random_state=42)\n",
    "\n",
    "#cv_scores = cross_val_score(model, X_train, y_train, cv=kfold)\n",
    "\n",
    "#print(\"Scores de chaque fold :\", cv_scores)\n",
    "#print(\"Moyenne des scores :\", cv_scores.mean())"
   ]
  },
  {
   "cell_type": "code",
   "execution_count": 17,
   "id": "ef3fe7ba",
   "metadata": {
    "execution": {
     "iopub.execute_input": "2024-12-27T01:17:49.262352Z",
     "iopub.status.busy": "2024-12-27T01:17:49.261923Z",
     "iopub.status.idle": "2024-12-27T01:17:58.155479Z",
     "shell.execute_reply": "2024-12-27T01:17:58.154343Z"
    },
    "papermill": {
     "duration": 8.905867,
     "end_time": "2024-12-27T01:17:58.157902",
     "exception": false,
     "start_time": "2024-12-27T01:17:49.252035",
     "status": "completed"
    },
    "tags": []
   },
   "outputs": [
    {
     "data": {
      "text/plain": [
       "[<matplotlib.lines.Line2D at 0x7908464d7190>]"
      ]
     },
     "execution_count": 17,
     "metadata": {},
     "output_type": "execute_result"
    },
    {
     "data": {
      "image/png": "[encoded data removed]",
      "text/plain": [
       "<Figure size 640x480 with 1 Axes>"
      ]
     },
     "metadata": {},
     "output_type": "display_data"
    }
   ],
   "source": [
    "## Etude des scores selon la max_depth du modèle\n",
    "from sklearn.model_selection import train_test_split, cross_val_score, KFold\n",
    "from sklearn.ensemble import RandomForestClassifier\n",
    "import matplotlib.pyplot as plt\n",
    "\n",
    "max_depths = [2,3,4,5,6,7,10]\n",
    "\n",
    "cv_results = []\n",
    "\n",
    "y = train_data[\"Survived\"]\n",
    "\n",
    "features = [\"Pclass\",\"Sex\", \"Age\", \"Fare\", \"SibSp\", \"Parch\"]\n",
    "X = pd.get_dummies(train_data[features])\n",
    "X_test = pd.get_dummies(test_data[features])\n",
    "\n",
    "X_train, X_test, y_train, y_test = train_test_split(X, y, test_size=0.2, random_state=42)\n",
    "\n",
    "for max_depth in max_depths:\n",
    "    model = RandomForestClassifier(n_estimators=100, max_depth=max_depth, random_state=1)\n",
    "\n",
    "    kfold = KFold(n_splits=5, shuffle=True, random_state=42)\n",
    "\n",
    "    cv_scores = cross_val_score(model, X_train, y_train, cv=kfold)\n",
    "\n",
    "    cv_results.append(cv_scores.mean())\n",
    "\n",
    "plt.plot(max_depths, cv_results)\n",
    "    \n",
    "## MAX POUR 5"
   ]
  },
  {
   "cell_type": "code",
   "execution_count": 18,
   "id": "ac61f358",
   "metadata": {
    "execution": {
     "iopub.execute_input": "2024-12-27T01:17:58.178260Z",
     "iopub.status.busy": "2024-12-27T01:17:58.177714Z",
     "iopub.status.idle": "2024-12-27T01:18:03.422520Z",
     "shell.execute_reply": "2024-12-27T01:18:03.420907Z"
    },
    "papermill": {
     "duration": 5.257998,
     "end_time": "2024-12-27T01:18:03.425032",
     "exception": false,
     "start_time": "2024-12-27T01:17:58.167034",
     "status": "completed"
    },
    "tags": []
   },
   "outputs": [
    {
     "data": {
      "text/plain": [
       "[<matplotlib.lines.Line2D at 0x79084441b190>]"
      ]
     },
     "execution_count": 18,
     "metadata": {},
     "output_type": "execute_result"
    },
    {
     "data": {
      "image/png": "[encoded data removed]",
      "text/plain": [
       "<Figure size 640x480 with 1 Axes>"
      ]
     },
     "metadata": {},
     "output_type": "display_data"
    }
   ],
   "source": [
    "## Etude des scores selon le nombre d'estimateurs du modèle\n",
    "from sklearn.model_selection import train_test_split, cross_val_score, KFold\n",
    "from sklearn.ensemble import RandomForestClassifier\n",
    "import matplotlib.pyplot as plt\n",
    "\n",
    "n_estimators_list = [10,20,30,40,50,60,70,80,90,100]\n",
    "\n",
    "cv_results = []\n",
    "\n",
    "y = train_data[\"Survived\"]\n",
    "\n",
    "features = [\"Pclass\",\"Sex\", \"Age\", \"Fare\", \"SibSp\", \"Parch\"]\n",
    "X = pd.get_dummies(train_data[features])\n",
    "X_test = pd.get_dummies(test_data[features])\n",
    "\n",
    "X_train, X_test, y_train, y_test = train_test_split(X, y, test_size=0.2, random_state=42)\n",
    "\n",
    "for n_estimators in n_estimators_list:\n",
    "    model = RandomForestClassifier(n_estimators=n_estimators, max_depth=5, random_state=1)\n",
    "\n",
    "    kfold = KFold(n_splits=5, shuffle=True, random_state=42)\n",
    "\n",
    "    cv_scores = cross_val_score(model, X_train, y_train, cv=kfold)\n",
    "\n",
    "    cv_results.append(cv_scores.mean())\n",
    "\n",
    "plt.plot(n_estimators_list, cv_results)\n",
    "    \n",
    "## MAX POUR 30"
   ]
  },
  {
   "cell_type": "markdown",
   "id": "4f0a1ecd",
   "metadata": {
    "papermill": {
     "duration": 0.010285,
     "end_time": "2024-12-27T01:18:03.445162",
     "exception": false,
     "start_time": "2024-12-27T01:18:03.434877",
     "status": "completed"
    },
    "tags": []
   },
   "source": [
    "Test avec les paramètres optimisés"
   ]
  },
  {
   "cell_type": "code",
   "execution_count": 19,
   "id": "f9448a38",
   "metadata": {
    "execution": {
     "iopub.execute_input": "2024-12-27T01:18:03.466669Z",
     "iopub.status.busy": "2024-12-27T01:18:03.466224Z",
     "iopub.status.idle": "2024-12-27T01:18:03.471408Z",
     "shell.execute_reply": "2024-12-27T01:18:03.470316Z"
    },
    "papermill": {
     "duration": 0.018452,
     "end_time": "2024-12-27T01:18:03.473422",
     "exception": false,
     "start_time": "2024-12-27T01:18:03.454970",
     "status": "completed"
    },
    "tags": []
   },
   "outputs": [],
   "source": [
    "#y = train_data[\"Survived\"]\n",
    "\n",
    "#features = [\"Pclass\",\"Sex\", \"Age\", \"Fare\", \"SibSp\", \"Parch\"]\n",
    "#X = pd.get_dummies(train_data[features])\n",
    "#X_test = pd.get_dummies(test_data[features])\n",
    "\n",
    "#model = RandomForestClassifier(n_estimators=30, max_depth=5, random_state=1)\n",
    "#model.fit(X,y)\n",
    "#predictions = model.predict(X_test)\n",
    "\n",
    "#output = pd.DataFrame({'PassengerId': test_data.PassengerId, 'Survived': predictions})\n",
    "#output.to_csv('submission.csv', index=False)\n",
    "#print(\"Your submission was successfully saved!\")\n",
    "\n",
    "# MOINS BON QUE L'ANCIENNE VERSION MDRRRR !!!"
   ]
  },
  {
   "cell_type": "markdown",
   "id": "1c7d6537",
   "metadata": {
    "papermill": {
     "duration": 0.012442,
     "end_time": "2024-12-27T01:18:03.495575",
     "exception": false,
     "start_time": "2024-12-27T01:18:03.483133",
     "status": "completed"
    },
    "tags": []
   },
   "source": [
    "### Gros feature engineering (inspiré d'un tuto)"
   ]
  },
  {
   "cell_type": "code",
   "execution_count": 20,
   "id": "e9687537",
   "metadata": {
    "execution": {
     "iopub.execute_input": "2024-12-27T01:18:03.521027Z",
     "iopub.status.busy": "2024-12-27T01:18:03.519199Z",
     "iopub.status.idle": "2024-12-27T01:18:04.083859Z",
     "shell.execute_reply": "2024-12-27T01:18:04.082625Z"
    },
    "papermill": {
     "duration": 0.578907,
     "end_time": "2024-12-27T01:18:04.086413",
     "exception": false,
     "start_time": "2024-12-27T01:18:03.507506",
     "status": "completed"
    },
    "tags": []
   },
   "outputs": [],
   "source": [
    "import seaborn as sns\n",
    "import matplotlib.pyplot as plt\n",
    "sns.set(style=\"darkgrid\")\n",
    "\n",
    "from sklearn.ensemble import RandomForestClassifier\n",
    "from sklearn.preprocessing import OneHotEncoder, LabelEncoder, StandardScaler\n",
    "from sklearn.metrics import roc_curve, auc\n",
    "from sklearn.model_selection import StratifiedKFold\n",
    "\n",
    "import string\n",
    "import warnings\n",
    "warnings.filterwarnings(\"ignore\")\n",
    "\n",
    "SEED = 42"
   ]
  },
  {
   "cell_type": "code",
   "execution_count": 21,
   "id": "20fe63e8",
   "metadata": {
    "execution": {
     "iopub.execute_input": "2024-12-27T01:18:04.108903Z",
     "iopub.status.busy": "2024-12-27T01:18:04.108320Z",
     "iopub.status.idle": "2024-12-27T01:18:04.135202Z",
     "shell.execute_reply": "2024-12-27T01:18:04.133990Z"
    },
    "papermill": {
     "duration": 0.040497,
     "end_time": "2024-12-27T01:18:04.137618",
     "exception": false,
     "start_time": "2024-12-27T01:18:04.097121",
     "status": "completed"
    },
    "tags": []
   },
   "outputs": [
    {
     "name": "stdout",
     "output_type": "stream",
     "text": [
      "Number of Training Examples = 891\n",
      "Number of Test Examples= 418\n",
      "\n",
      "Training X Shape = (891, 12)\n",
      "Training y Shape = 891\n",
      "Test X Shape = (418, 11)\n",
      "Test y Shape = 418\n",
      "Index(['PassengerId', 'Survived', 'Pclass', 'Name', 'Sex', 'Age', 'SibSp',\n",
      "       'Parch', 'Ticket', 'Fare', 'Cabin', 'Embarked'],\n",
      "      dtype='object')\n",
      "Index(['PassengerId', 'Pclass', 'Name', 'Sex', 'Age', 'SibSp', 'Parch',\n",
      "       'Ticket', 'Fare', 'Cabin', 'Embarked'],\n",
      "      dtype='object')\n"
     ]
    }
   ],
   "source": [
    "def concat_df(train_data, test_data):\n",
    "    # Retourne un df training + test concaténé\n",
    "    return pd.concat([train_data, test_data], sort=True).reset_index(drop=True)\n",
    "\n",
    "def divide_df(all_data):\n",
    "    # Retourne deux dfs d'entraînement et de test\n",
    "    return all_data.loc[:890], all_data.loc[891:].drop(['Survived'], axis=1)\n",
    "\n",
    "df_train = pd.read_csv('/kaggle/input/titanic/train.csv')\n",
    "df_test = pd.read_csv('/kaggle/input/titanic/test.csv')\n",
    "df_all = concat_df(df_train, df_test)\n",
    "\n",
    "df_train.name = \"Training Set\"\n",
    "df_test.name = \"Test Set\"\n",
    "df_all.name = \"All Set\"\n",
    "\n",
    "dfs =[df_train, df_test]\n",
    "\n",
    "print('Number of Training Examples = {}'.format(df_train.shape[0]))\n",
    "print('Number of Test Examples= {}\\n'.format(df_test.shape[0]))\n",
    "print('Training X Shape = {}'.format(df_train.shape))\n",
    "print('Training y Shape = {}'.format(df_train['Survived'].shape[0]))\n",
    "print('Test X Shape = {}'.format(df_test.shape))\n",
    "print('Test y Shape = {}'.format(df_test.shape[0]))\n",
    "print(df_train.columns)\n",
    "print(df_test.columns)"
   ]
  },
  {
   "cell_type": "markdown",
   "id": "6750f02e",
   "metadata": {
    "papermill": {
     "duration": 0.009693,
     "end_time": "2024-12-27T01:18:04.157866",
     "exception": false,
     "start_time": "2024-12-27T01:18:04.148173",
     "status": "completed"
    },
    "tags": []
   },
   "source": [
    "#### Missing Values"
   ]
  },
  {
   "cell_type": "code",
   "execution_count": 22,
   "id": "29db53b7",
   "metadata": {
    "execution": {
     "iopub.execute_input": "2024-12-27T01:18:04.180369Z",
     "iopub.status.busy": "2024-12-27T01:18:04.179114Z",
     "iopub.status.idle": "2024-12-27T01:18:04.191805Z",
     "shell.execute_reply": "2024-12-27T01:18:04.190537Z"
    },
    "papermill": {
     "duration": 0.026419,
     "end_time": "2024-12-27T01:18:04.194132",
     "exception": false,
     "start_time": "2024-12-27T01:18:04.167713",
     "status": "completed"
    },
    "tags": []
   },
   "outputs": [
    {
     "name": "stdout",
     "output_type": "stream",
     "text": [
      "Training Set\n",
      "PassengerId column missing values: 0\n",
      "Survived column missing values: 0\n",
      "Pclass column missing values: 0\n",
      "Name column missing values: 0\n",
      "Sex column missing values: 0\n",
      "Age column missing values: 177\n",
      "SibSp column missing values: 0\n",
      "Parch column missing values: 0\n",
      "Ticket column missing values: 0\n",
      "Fare column missing values: 0\n",
      "Cabin column missing values: 687\n",
      "Embarked column missing values: 2\n",
      "\n",
      "\n",
      "Test Set\n",
      "PassengerId column missing values: 0\n",
      "Pclass column missing values: 0\n",
      "Name column missing values: 0\n",
      "Sex column missing values: 0\n",
      "Age column missing values: 86\n",
      "SibSp column missing values: 0\n",
      "Parch column missing values: 0\n",
      "Ticket column missing values: 0\n",
      "Fare column missing values: 1\n",
      "Cabin column missing values: 327\n",
      "Embarked column missing values: 0\n",
      "\n",
      "\n"
     ]
    }
   ],
   "source": [
    "def display_missing(df):\n",
    "    for col in df.columns.tolist():\n",
    "        print('{} column missing values: {}'.format(col, df[col].isnull().sum()))\n",
    "    print('\\n')\n",
    "\n",
    "for df in dfs:\n",
    "    print('{}'.format(df.name))\n",
    "    display_missing(df)"
   ]
  },
  {
   "cell_type": "markdown",
   "id": "51625427",
   "metadata": {
    "papermill": {
     "duration": 0.009572,
     "end_time": "2024-12-27T01:18:04.213572",
     "exception": false,
     "start_time": "2024-12-27T01:18:04.204000",
     "status": "completed"
    },
    "tags": []
   },
   "source": [
    "##### Valeurs d'âge manquantes\n",
    "\n",
    "On a choisi la médiane des valeurs d'âge en triant par sexe et par classe car c'était les deux variables qui avaient la plus grande corrélation avec l'âge."
   ]
  },
  {
   "cell_type": "code",
   "execution_count": 23,
   "id": "30d4ccf2",
   "metadata": {
    "execution": {
     "iopub.execute_input": "2024-12-27T01:18:04.235273Z",
     "iopub.status.busy": "2024-12-27T01:18:04.234833Z",
     "iopub.status.idle": "2024-12-27T01:18:04.258461Z",
     "shell.execute_reply": "2024-12-27T01:18:04.257130Z"
    },
    "papermill": {
     "duration": 0.037503,
     "end_time": "2024-12-27T01:18:04.260978",
     "exception": false,
     "start_time": "2024-12-27T01:18:04.223475",
     "status": "completed"
    },
    "tags": []
   },
   "outputs": [
    {
     "name": "stdout",
     "output_type": "stream",
     "text": [
      "Median age of Pclass 1 females: 36.0\n",
      "Median age of Pclass 1 males: 42.0\n",
      "Median age of Pclass 2 females: 28.0\n",
      "Median age of Pclass 2 males: 29.5\n",
      "Median age of Pclass 3 females: 22.0\n",
      "Median age of Pclass 3 males: 25.0\n",
      "Median age of all passengers: 28.0\n"
     ]
    }
   ],
   "source": [
    "age_by_pclass_sex = df_all.groupby(['Sex', 'Pclass'])['Age'].median()\n",
    "\n",
    "for pclass in range(1, 4):\n",
    "    for sex in ['female', 'male']:\n",
    "        print('Median age of Pclass {} {}s: {}'.format(pclass, sex, age_by_pclass_sex[sex][pclass]))\n",
    "print('Median age of all passengers: {}'.format(df_all['Age'].median()))\n",
    "\n",
    "df_all['Age'] = df_all.groupby(['Sex', 'Pclass'])['Age'].transform(lambda x: x.fillna(x.median()))"
   ]
  },
  {
   "cell_type": "markdown",
   "id": "c4613af6",
   "metadata": {
    "papermill": {
     "duration": 0.009779,
     "end_time": "2024-12-27T01:18:04.280687",
     "exception": false,
     "start_time": "2024-12-27T01:18:04.270908",
     "status": "completed"
    },
    "tags": []
   },
   "source": [
    "##### Valeurs manquantes sur la variable Embarked"
   ]
  },
  {
   "cell_type": "code",
   "execution_count": 24,
   "id": "8344cdb2",
   "metadata": {
    "execution": {
     "iopub.execute_input": "2024-12-27T01:18:04.303292Z",
     "iopub.status.busy": "2024-12-27T01:18:04.302863Z",
     "iopub.status.idle": "2024-12-27T01:18:04.309618Z",
     "shell.execute_reply": "2024-12-27T01:18:04.308349Z"
    },
    "papermill": {
     "duration": 0.021242,
     "end_time": "2024-12-27T01:18:04.312001",
     "exception": false,
     "start_time": "2024-12-27T01:18:04.290759",
     "status": "completed"
    },
    "tags": []
   },
   "outputs": [],
   "source": [
    "# Les deux passagères qui n'ont pas de valeurs EMbarked ont en réalité embarqué à Southampton\n",
    "df_all['Embarked'] = df_all['Embarked'].fillna('S')"
   ]
  },
  {
   "cell_type": "markdown",
   "id": "35a0da2f",
   "metadata": {
    "papermill": {
     "duration": 0.009657,
     "end_time": "2024-12-27T01:18:04.331534",
     "exception": false,
     "start_time": "2024-12-27T01:18:04.321877",
     "status": "completed"
    },
    "tags": []
   },
   "source": [
    "##### Valeur manquante sur le prix du ticket"
   ]
  },
  {
   "cell_type": "code",
   "execution_count": 25,
   "id": "39999bb8",
   "metadata": {
    "execution": {
     "iopub.execute_input": "2024-12-27T01:18:04.353379Z",
     "iopub.status.busy": "2024-12-27T01:18:04.352955Z",
     "iopub.status.idle": "2024-12-27T01:18:04.363014Z",
     "shell.execute_reply": "2024-12-27T01:18:04.361915Z"
    },
    "papermill": {
     "duration": 0.023955,
     "end_time": "2024-12-27T01:18:04.365531",
     "exception": false,
     "start_time": "2024-12-27T01:18:04.341576",
     "status": "completed"
    },
    "tags": []
   },
   "outputs": [],
   "source": [
    "med_fare = df_all.groupby(['Pclass', 'Parch', 'SibSp']).Fare.median()[3][0][0]\n",
    "\n",
    "df_all['Fare'] = df_all['Fare'].fillna(med_fare)"
   ]
  },
  {
   "cell_type": "markdown",
   "id": "6efdc61b",
   "metadata": {
    "papermill": {
     "duration": 0.01086,
     "end_time": "2024-12-27T01:18:04.386521",
     "exception": false,
     "start_time": "2024-12-27T01:18:04.375661",
     "status": "completed"
    },
    "tags": []
   },
   "source": [
    "##### Valeurs manquantes sur la cabine\n",
    "\n",
    "Les cabines A, B et C étaient réservés aux passagers en 1ère classe.\n",
    "\n",
    "Les cabines D et E pour toutes les classes.\n",
    "\n",
    "Les cabines F et G pour les passagers en 2ème et 3ème classe."
   ]
  },
  {
   "cell_type": "code",
   "execution_count": 26,
   "id": "8977017d",
   "metadata": {
    "execution": {
     "iopub.execute_input": "2024-12-27T01:18:04.411062Z",
     "iopub.status.busy": "2024-12-27T01:18:04.410672Z",
     "iopub.status.idle": "2024-12-27T01:18:04.840513Z",
     "shell.execute_reply": "2024-12-27T01:18:04.839313Z"
    },
    "papermill": {
     "duration": 0.445195,
     "end_time": "2024-12-27T01:18:04.843138",
     "exception": false,
     "start_time": "2024-12-27T01:18:04.397943",
     "status": "completed"
    },
    "tags": []
   },
   "outputs": [
    {
     "name": "stdout",
     "output_type": "stream",
     "text": [
      "Deck     A   B   C   D      E         F     G   M            T\n",
      "Pclass   1   1   1   1  2   1  2  3   2  3  3   1    2    3  1\n",
      "Count   22  65  94  40  6  34  4  3  13  8  5  67  254  693  1\n",
      "            0          1           2\n",
      "A  100.000000   0.000000    0.000000\n",
      "B  100.000000   0.000000    0.000000\n",
      "C  100.000000   0.000000    0.000000\n",
      "D   86.956522  13.043478    0.000000\n",
      "E   82.926829   9.756098    7.317073\n",
      "F    0.000000  61.904762   38.095238\n",
      "G    0.000000   0.000000  100.000000\n",
      "M    6.607495  25.049310   68.343195\n",
      "T  100.000000   0.000000    0.000000\n"
     ]
    },
    {
     "data": {
      "image/png": "[encoded data removed]",
      "text/plain": [
       "<Figure size 2000x1000 with 1 Axes>"
      ]
     },
     "metadata": {},
     "output_type": "display_data"
    }
   ],
   "source": [
    "# On crée la colonne Deck avec la première lettre de la cabine (M pour Missing)\n",
    "df_all['Deck'] = df_all['Cabin'].apply(lambda s: s[0] if pd.notnull(s) else 'M')\n",
    "\n",
    "df_all_decks = df_all.groupby(['Deck', 'Pclass']).count().drop(columns=['Survived', 'Sex', 'Age', 'SibSp', 'Parch', 'Fare', 'Embarked', 'Cabin', 'PassengerId', 'Ticket']).rename(columns={'Name': 'Count'}).transpose()\n",
    "\n",
    "print(df_all_decks.head())\n",
    "\n",
    "def get_pclass_dist(df):\n",
    "\n",
    "    # On crée un dictionnaire pour chaque lettre de cabine\n",
    "    deck_counts = {'A': {}, 'B': {}, 'C': {}, 'D': {}, 'E': {}, 'F': {}, 'G': {}, 'M': {}, 'T': {}}\n",
    "    decks = df.columns.levels[0]\n",
    "\n",
    "    for deck in decks:\n",
    "        for pclass in range(1, 4):\n",
    "            try:\n",
    "                count = df[deck][pclass][0]\n",
    "                deck_counts[deck][pclass] = count\n",
    "            except KeyError:\n",
    "                deck_counts[deck][pclass] = 0\n",
    "\n",
    "    df_decks = pd.DataFrame(deck_counts)\n",
    "\n",
    "    deck_percentages = {}\n",
    "\n",
    "    # On crée un dictionnaire pour chaque pourcentage de gens dans chaque deck\n",
    "    for col in df_decks.columns:\n",
    "        deck_percentages[col] = [(count / df_decks[col].sum()) * 100 for count in df_decks[col]]\n",
    "\n",
    "    return deck_counts, deck_percentages\n",
    "\n",
    "def display_pclass_dist(percentages):\n",
    "\n",
    "    df_percentages = pd.DataFrame(percentages).transpose()\n",
    "    print(df_percentages)\n",
    "    deck_names = ('A', 'B', 'C', 'D', 'E', 'F', 'G', 'M', 'T')\n",
    "    bar_count = np.arange(len(deck_names))\n",
    "    bar_width = 0.85\n",
    "\n",
    "    pclass1 = df_percentages[0]\n",
    "    pclass2 = df_percentages[1]\n",
    "    pclass3 = df_percentages[2]\n",
    "\n",
    "    plt.figure(figsize=(20, 10))\n",
    "    plt.bar(bar_count, pclass1, color='#b5ffb9', edgecolor='white', width=bar_width, label='Passenger Class 1')\n",
    "    plt.bar(bar_count, pclass2, bottom=pclass1, color='#f9bc86', edgecolor='white', width=bar_width, label='Passenger Class 2')\n",
    "    plt.bar(bar_count, pclass3, bottom=pclass1 + pclass2, color='#a3acff', edgecolor='white', width=bar_width, label='Passenger Class 3')\n",
    "\n",
    "    plt.xlabel('Deck', size=15, labelpad=20)\n",
    "    plt.ylabel('Passenger Class Percentage', size=15, labelpad=20)\n",
    "    plt.xticks(bar_count, deck_names)\n",
    "    plt.tick_params(axis='x', labelsize=15)\n",
    "    plt.tick_params(axis='y', labelsize=15)\n",
    "\n",
    "    plt.legend(loc='upper left', bbox_to_anchor=(1, 1), prop={'size': 15})\n",
    "    plt.title('Passenger Class Distribution in Decks', size=18, y=1.05)\n",
    "\n",
    "    plt.show()\n",
    "\n",
    "all_deck_count, all_deck_per = get_pclass_dist(df_all_decks)\n",
    "display_pclass_dist(all_deck_per)"
   ]
  },
  {
   "cell_type": "markdown",
   "id": "6ecbf795",
   "metadata": {
    "papermill": {
     "duration": 0.010681,
     "end_time": "2024-12-27T01:18:04.865219",
     "exception": false,
     "start_time": "2024-12-27T01:18:04.854538",
     "status": "completed"
    },
    "tags": []
   },
   "source": [
    "Comme il n'y a qu'un passager en cabine T, on le change en cabine A."
   ]
  },
  {
   "cell_type": "code",
   "execution_count": 27,
   "id": "d05a214a",
   "metadata": {
    "execution": {
     "iopub.execute_input": "2024-12-27T01:18:04.888752Z",
     "iopub.status.busy": "2024-12-27T01:18:04.888360Z",
     "iopub.status.idle": "2024-12-27T01:18:04.896303Z",
     "shell.execute_reply": "2024-12-27T01:18:04.895048Z"
    },
    "papermill": {
     "duration": 0.022656,
     "end_time": "2024-12-27T01:18:04.898888",
     "exception": false,
     "start_time": "2024-12-27T01:18:04.876232",
     "status": "completed"
    },
    "tags": []
   },
   "outputs": [],
   "source": [
    "idx = df_all[df_all['Deck'] == 'T'].index\n",
    "df_all.loc[idx, 'Deck'] = 'A'"
   ]
  },
  {
   "cell_type": "code",
   "execution_count": 28,
   "id": "72cf4ead",
   "metadata": {
    "execution": {
     "iopub.execute_input": "2024-12-27T01:18:04.923061Z",
     "iopub.status.busy": "2024-12-27T01:18:04.922651Z",
     "iopub.status.idle": "2024-12-27T01:18:05.294414Z",
     "shell.execute_reply": "2024-12-27T01:18:05.293150Z"
    },
    "papermill": {
     "duration": 0.387112,
     "end_time": "2024-12-27T01:18:05.297158",
     "exception": false,
     "start_time": "2024-12-27T01:18:04.910046",
     "status": "completed"
    },
    "tags": []
   },
   "outputs": [
    {
     "data": {
      "image/png": "[encoded data removed]",
      "text/plain": [
       "<Figure size 2000x1000 with 1 Axes>"
      ]
     },
     "metadata": {},
     "output_type": "display_data"
    }
   ],
   "source": [
    "df_all_decks_survived = df_all.groupby(['Deck', 'Survived']).count().drop(columns=['Sex', 'Age', 'SibSp', 'Parch', 'Fare', 'Embarked', 'Pclass', 'Cabin', 'PassengerId', 'Ticket']).rename(columns={'Name': 'Count'}).transpose()\n",
    "\n",
    "def get_survived_dist(df):\n",
    "\n",
    "    surv_counts = {'A': {}, 'B': {}, 'C': {}, 'D': {}, 'E': {}, 'F': {}, 'G': {}, 'M': {}}\n",
    "    decks = df.columns.levels[0]\n",
    "\n",
    "    for deck in decks:\n",
    "        for survive in range(2):\n",
    "            surv_counts[deck][survive] = df[deck][survive][0]\n",
    "\n",
    "    df_surv = pd.DataFrame(surv_counts)\n",
    "    surv_percentages = {}\n",
    "\n",
    "    for col in df_surv.columns:\n",
    "        surv_percentages[col] = [(count / df_surv[col].sum()) * 100 for count in df_surv[col]]\n",
    "\n",
    "    return surv_counts, surv_percentages\n",
    "\n",
    "def display_surv_dist(percentages):\n",
    "\n",
    "    df_survived_percentages = pd.DataFrame(percentages).transpose()\n",
    "    deck_names = ('A', 'B', 'C', 'D', 'E', 'F', 'G', 'M')\n",
    "    bar_count = np.arange(len(deck_names))\n",
    "    bar_width = 0.85\n",
    "\n",
    "    not_survived = df_survived_percentages[0]\n",
    "    survived = df_survived_percentages[1]\n",
    "\n",
    "    plt.figure(figsize=(20, 10))\n",
    "    plt.bar(bar_count, not_survived, color='#b5ffb9', edgecolor='white', width=bar_width, label='Not Survived')\n",
    "    plt.bar(bar_count, survived, bottom=not_survived, color='#f9bc86', edgecolor='white', width=bar_width, label='Survived')\n",
    "\n",
    "    plt.xlabel('Deck', size=15, labelpad=20)\n",
    "    plt.ylabel('Survival Percentage', size=15, labelpad=20)\n",
    "    plt.xticks(bar_count, deck_names)\n",
    "    plt.tick_params(axis='x', labelsize=15)\n",
    "    plt.tick_params(axis='y', labelsize=15)\n",
    "\n",
    "    plt.legend(loc='upper left', bbox_to_anchor=(1, 1), prop={'size': 15})\n",
    "    plt.title('Survival Percentage in Decks', size=18, y=1.05)\n",
    "\n",
    "    plt.show()\n",
    "\n",
    "all_surv_count, all_surv_per = get_survived_dist(df_all_decks_survived)\n",
    "display_surv_dist(all_surv_per)"
   ]
  },
  {
   "cell_type": "markdown",
   "id": "e9e28d5d",
   "metadata": {
    "papermill": {
     "duration": 0.011637,
     "end_time": "2024-12-27T01:18:05.320694",
     "exception": false,
     "start_time": "2024-12-27T01:18:05.309057",
     "status": "completed"
    },
    "tags": []
   },
   "source": [
    "Conclusion de cet affichage : le taux de survie n'est pas le même selon la cabine de chaque passager, cela montre bien que cette variable a une influence.\n",
    "\n",
    "Les cabines B, D et E ont un taux de survie plus élevé tandis que les passagers manquants (M) ont le taux de survie le plus bas.\n",
    "\n",
    "Les cabines utilisées par les passagers en première classe ont un taux de survie plus élevé que les autres. On va donc regrouper les decks A, B et C sur une même variable ABC, les decks D et E sur une variable DE, les decks F et G sur une variable FG et les M."
   ]
  },
  {
   "cell_type": "code",
   "execution_count": 29,
   "id": "79bce473",
   "metadata": {
    "execution": {
     "iopub.execute_input": "2024-12-27T01:18:05.346543Z",
     "iopub.status.busy": "2024-12-27T01:18:05.346119Z",
     "iopub.status.idle": "2024-12-27T01:18:05.359884Z",
     "shell.execute_reply": "2024-12-27T01:18:05.358708Z"
    },
    "papermill": {
     "duration": 0.029616,
     "end_time": "2024-12-27T01:18:05.362397",
     "exception": false,
     "start_time": "2024-12-27T01:18:05.332781",
     "status": "completed"
    },
    "tags": []
   },
   "outputs": [
    {
     "data": {
      "text/plain": [
       "Deck\n",
       "M      1014\n",
       "ABC     182\n",
       "DE       87\n",
       "FG       26\n",
       "Name: count, dtype: int64"
      ]
     },
     "execution_count": 29,
     "metadata": {},
     "output_type": "execute_result"
    }
   ],
   "source": [
    "df_all['Deck'] = df_all['Deck'].replace(['A', 'B', 'C'], 'ABC')\n",
    "df_all['Deck'] = df_all['Deck'].replace(['D', 'E'], 'DE')\n",
    "df_all['Deck'] = df_all['Deck'].replace(['F', 'G'], 'FG')\n",
    "\n",
    "df_all['Deck'].value_counts()\n"
   ]
  },
  {
   "cell_type": "code",
   "execution_count": 30,
   "id": "9e59dd16",
   "metadata": {
    "execution": {
     "iopub.execute_input": "2024-12-27T01:18:05.388100Z",
     "iopub.status.busy": "2024-12-27T01:18:05.387685Z",
     "iopub.status.idle": "2024-12-27T01:18:05.402352Z",
     "shell.execute_reply": "2024-12-27T01:18:05.401148Z"
    },
    "papermill": {
     "duration": 0.030331,
     "end_time": "2024-12-27T01:18:05.404569",
     "exception": false,
     "start_time": "2024-12-27T01:18:05.374238",
     "status": "completed"
    },
    "tags": []
   },
   "outputs": [
    {
     "name": "stdout",
     "output_type": "stream",
     "text": [
      "Age column missing values: 0\n",
      "Embarked column missing values: 0\n",
      "Fare column missing values: 0\n",
      "Name column missing values: 0\n",
      "Parch column missing values: 0\n",
      "PassengerId column missing values: 0\n",
      "Pclass column missing values: 0\n",
      "Sex column missing values: 0\n",
      "SibSp column missing values: 0\n",
      "Survived column missing values: 0\n",
      "Ticket column missing values: 0\n",
      "Deck column missing values: 0\n",
      "\n",
      "\n",
      "Age column missing values: 0\n",
      "Embarked column missing values: 0\n",
      "Fare column missing values: 0\n",
      "Name column missing values: 0\n",
      "Parch column missing values: 0\n",
      "PassengerId column missing values: 0\n",
      "Pclass column missing values: 0\n",
      "Sex column missing values: 0\n",
      "SibSp column missing values: 0\n",
      "Ticket column missing values: 0\n",
      "Deck column missing values: 0\n",
      "\n",
      "\n"
     ]
    }
   ],
   "source": [
    "df_all.drop(['Cabin'], inplace=True, axis=1)\n",
    "\n",
    "df_train, df_test = divide_df(df_all)\n",
    "dfs = [df_train, df_test]\n",
    "\n",
    "for df in dfs:\n",
    "    display_missing(df)"
   ]
  },
  {
   "cell_type": "markdown",
   "id": "fa733621",
   "metadata": {
    "papermill": {
     "duration": 0.011424,
     "end_time": "2024-12-27T01:18:05.428005",
     "exception": false,
     "start_time": "2024-12-27T01:18:05.416581",
     "status": "completed"
    },
    "tags": []
   },
   "source": [
    "##### Distribution Survécu / Pas survécu"
   ]
  }
 ],
 "metadata": {
  "kaggle": {
   "accelerator": "none",
   "dataSources": [
    {
     "databundleVersionId": 26502,
     "sourceId": 3136,
     "sourceType": "competition"
    }
   ],
   "dockerImageVersionId": 30804,
   "isGpuEnabled": false,
   "isInternetEnabled": true,
   "language": "python",
   "sourceType": "notebook"
  },
  "kernelspec": {
   "display_name": "Python 3",
   "language": "python",
   "name": "python3"
  },
  "language_info": {
   "codemirror_mode": {
    "name": "ipython",
    "version": 3
   },
   "file_extension": ".py",
   "mimetype": "text/x-python",
   "name": "python",
   "nbconvert_exporter": "python",
   "pygments_lexer": "ipython3",
   "version": "3.10.14"
  },
  "papermill": {
   "default_parameters": {},
   "duration": 22.286057,
   "end_time": "2024-12-27T01:18:06.162055",
   "environment_variables": {},
   "exception": null,
   "input_path": "__notebook__.ipynb",
   "output_path": "__notebook__.ipynb",
   "parameters": {},
   "start_time": "2024-12-27T01:17:43.875998",
   "version": "2.6.0"
  }
 },
 "nbformat": 4,
 "nbformat_minor": 5
}
