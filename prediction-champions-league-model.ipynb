{
 "cells": [
  {
   "cell_type": "code",
   "execution_count": 1,
   "id": "4737f358",
   "metadata": {
    "_cell_guid": "b1076dfc-b9ad-4769-8c92-a6c4dae69d19",
    "_uuid": "8f2839f25d086af736a60e9eeb907d3b93b6e0e5",
    "execution": {
     "iopub.execute_input": "2025-01-05T14:12:07.215768Z",
     "iopub.status.busy": "2025-01-05T14:12:07.215328Z",
     "iopub.status.idle": "2025-01-05T14:12:08.122700Z",
     "shell.execute_reply": "2025-01-05T14:12:08.121116Z"
    },
    "papermill": {
     "duration": 0.913216,
     "end_time": "2025-01-05T14:12:08.124562",
     "exception": false,
     "start_time": "2025-01-05T14:12:07.211346",
     "status": "completed"
    },
    "tags": []
   },
   "outputs": [
    {
     "name": "stdout",
     "output_type": "stream",
     "text": [
      "/kaggle/input/resultats-ligue-1/ligue1_results.csv\n"
     ]
    }
   ],
   "source": [
    "# This Python 3 environment comes with many helpful analytics libraries installed\n",
    "# It is defined by the kaggle/python Docker image: https://github.com/kaggle/docker-python\n",
    "# For example, here's several helpful packages to load\n",
    "\n",
    "import numpy as np # linear algebra\n",
    "import pandas as pd # data processing, CSV file I/O (e.g. pd.read_csv)\n",
    "\n",
    "# Input data files are available in the read-only \"../input/\" directory\n",
    "# For example, running this (by clicking run or pressing Shift+Enter) will list all files under the input directory\n",
    "\n",
    "import os\n",
    "for dirname, _, filenames in os.walk('/kaggle/input'):\n",
    "    for filename in filenames:\n",
    "        print(os.path.join(dirname, filename))\n",
    "\n",
    "# You can write up to 20GB to the current directory (/kaggle/working/) that gets preserved as output when you create a version using \"Save & Run All\" \n",
    "# You can also write temporary files to /kaggle/temp/, but they won't be saved outside of the current session"
   ]
  },
  {
   "cell_type": "code",
   "execution_count": 2,
   "id": "2d30a11b",
   "metadata": {
    "execution": {
     "iopub.execute_input": "2025-01-05T14:12:08.130168Z",
     "iopub.status.busy": "2025-01-05T14:12:08.129629Z",
     "iopub.status.idle": "2025-01-05T14:12:08.167510Z",
     "shell.execute_reply": "2025-01-05T14:12:08.166249Z"
    },
    "papermill": {
     "duration": 0.043085,
     "end_time": "2025-01-05T14:12:08.169903",
     "exception": false,
     "start_time": "2025-01-05T14:12:08.126818",
     "status": "completed"
    },
    "tags": []
   },
   "outputs": [
    {
     "data": {
      "text/html": [
       "<div>\n",
       "<style scoped>\n",
       "    .dataframe tbody tr th:only-of-type {\n",
       "        vertical-align: middle;\n",
       "    }\n",
       "\n",
       "    .dataframe tbody tr th {\n",
       "        vertical-align: top;\n",
       "    }\n",
       "\n",
       "    .dataframe thead th {\n",
       "        text-align: right;\n",
       "    }\n",
       "</style>\n",
       "<table border=\"1\" class=\"dataframe\">\n",
       "  <thead>\n",
       "    <tr style=\"text-align: right;\">\n",
       "      <th></th>\n",
       "      <th>Equipe</th>\n",
       "      <th>Classement_J16</th>\n",
       "      <th>Points_J16</th>\n",
       "      <th>Forme_6L</th>\n",
       "      <th>Forme_D_6L</th>\n",
       "      <th>Forme_E_6L</th>\n",
       "      <th>Buts_Pour</th>\n",
       "      <th>Buts_Contre</th>\n",
       "      <th>Coupe_Europe</th>\n",
       "      <th>Coupe_France</th>\n",
       "    </tr>\n",
       "  </thead>\n",
       "  <tbody>\n",
       "    <tr>\n",
       "      <th>0</th>\n",
       "      <td>Paris-Saint-Germain</td>\n",
       "      <td>1</td>\n",
       "      <td>40</td>\n",
       "      <td>GGNNGG</td>\n",
       "      <td>GGGGNG</td>\n",
       "      <td>NNGGNG</td>\n",
       "      <td>44</td>\n",
       "      <td>14</td>\n",
       "      <td>1</td>\n",
       "      <td>1</td>\n",
       "    </tr>\n",
       "    <tr>\n",
       "      <th>1</th>\n",
       "      <td>Monaco</td>\n",
       "      <td>3</td>\n",
       "      <td>30</td>\n",
       "      <td>GGDGND</td>\n",
       "      <td>GNDGGD</td>\n",
       "      <td>GGDGDN</td>\n",
       "      <td>26</td>\n",
       "      <td>16</td>\n",
       "      <td>1</td>\n",
       "      <td>1</td>\n",
       "    </tr>\n",
       "    <tr>\n",
       "      <th>2</th>\n",
       "      <td>Marseille</td>\n",
       "      <td>2</td>\n",
       "      <td>30</td>\n",
       "      <td>GDGGGN</td>\n",
       "      <td>GNDDGN</td>\n",
       "      <td>GDGGGG</td>\n",
       "      <td>32</td>\n",
       "      <td>18</td>\n",
       "      <td>0</td>\n",
       "      <td>1</td>\n",
       "    </tr>\n",
       "    <tr>\n",
       "      <th>3</th>\n",
       "      <td>Lille</td>\n",
       "      <td>4</td>\n",
       "      <td>28</td>\n",
       "      <td>NGNGNN</td>\n",
       "      <td>NGNGGN</td>\n",
       "      <td>GNGNNN</td>\n",
       "      <td>26</td>\n",
       "      <td>16</td>\n",
       "      <td>1</td>\n",
       "      <td>1</td>\n",
       "    </tr>\n",
       "    <tr>\n",
       "      <th>4</th>\n",
       "      <td>Lyon</td>\n",
       "      <td>5</td>\n",
       "      <td>28</td>\n",
       "      <td>GNGGDG</td>\n",
       "      <td>DGNGGG</td>\n",
       "      <td>GGNNGD</td>\n",
       "      <td>28</td>\n",
       "      <td>20</td>\n",
       "      <td>1</td>\n",
       "      <td>1</td>\n",
       "    </tr>\n",
       "  </tbody>\n",
       "</table>\n",
       "</div>"
      ],
      "text/plain": [
       "                Equipe  Classement_J16  Points_J16 Forme_6L Forme_D_6L  \\\n",
       "0  Paris-Saint-Germain               1          40   GGNNGG     GGGGNG   \n",
       "1               Monaco               3          30   GGDGND     GNDGGD   \n",
       "2            Marseille               2          30   GDGGGN     GNDDGN   \n",
       "3                Lille               4          28   NGNGNN     NGNGGN   \n",
       "4                 Lyon               5          28   GNGGDG     DGNGGG   \n",
       "\n",
       "  Forme_E_6L  Buts_Pour  Buts_Contre  Coupe_Europe  Coupe_France  \n",
       "0     NNGGNG         44           14             1             1  \n",
       "1     GGDGDN         26           16             1             1  \n",
       "2     GDGGGG         32           18             0             1  \n",
       "3     GNGNNN         26           16             1             1  \n",
       "4     GGNNGD         28           20             1             1  "
      ]
     },
     "execution_count": 2,
     "metadata": {},
     "output_type": "execute_result"
    }
   ],
   "source": [
    "df = pd.read_csv(\"/kaggle/input/resultats-ligue-1/ligue1_results.csv\")\n",
    "df.head()"
   ]
  },
  {
   "cell_type": "markdown",
   "id": "34e92a7f",
   "metadata": {
    "papermill": {
     "duration": 0.001923,
     "end_time": "2025-01-05T14:12:08.174371",
     "exception": false,
     "start_time": "2025-01-05T14:12:08.172448",
     "status": "completed"
    },
    "tags": []
   },
   "source": [
    "### Modification des features de forme"
   ]
  },
  {
   "cell_type": "code",
   "execution_count": null,
   "id": "9ae4760d",
   "metadata": {
    "papermill": {
     "duration": 0.001845,
     "end_time": "2025-01-05T14:12:08.178367",
     "exception": false,
     "start_time": "2025-01-05T14:12:08.176522",
     "status": "completed"
    },
    "tags": []
   },
   "outputs": [],
   "source": []
  }
 ],
 "metadata": {
  "kaggle": {
   "accelerator": "none",
   "dataSources": [
    {
     "datasetId": 6428623,
     "sourceId": 10377996,
     "sourceType": "datasetVersion"
    }
   ],
   "dockerImageVersionId": 30822,
   "isGpuEnabled": false,
   "isInternetEnabled": true,
   "language": "python",
   "sourceType": "notebook"
  },
  "kernelspec": {
   "display_name": "Python 3",
   "language": "python",
   "name": "python3"
  },
  "language_info": {
   "codemirror_mode": {
    "name": "ipython",
    "version": 3
   },
   "file_extension": ".py",
   "mimetype": "text/x-python",
   "name": "python",
   "nbconvert_exporter": "python",
   "pygments_lexer": "ipython3",
   "version": "3.10.12"
  },
  "papermill": {
   "default_parameters": {},
   "duration": 4.56388,
   "end_time": "2025-01-05T14:12:08.802286",
   "environment_variables": {},
   "exception": null,
   "input_path": "__notebook__.ipynb",
   "output_path": "__notebook__.ipynb",
   "parameters": {},
   "start_time": "2025-01-05T14:12:04.238406",
   "version": "2.6.0"
  }
 },
 "nbformat": 4,
 "nbformat_minor": 5
}
